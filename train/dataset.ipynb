{
 "cells": [
  {
   "cell_type": "code",
   "execution_count": 24,
   "metadata": {},
   "outputs": [
    {
     "name": "stderr",
     "output_type": "stream",
     "text": [
      "/home/sabina/miniconda3/envs/valle/lib/python3.8/site-packages/datasets/load.py:2554: FutureWarning: 'use_auth_token' was deprecated in favor of 'token' in version 2.14.0 and will be removed in 3.0.0.\n",
      "You can remove this warning by passing 'token=<use_auth_token>' instead.\n",
      "  warnings.warn(\n"
     ]
    },
    {
     "data": {
      "application/vnd.jupyter.widget-view+json": {
       "model_id": "89a799cf73754c7a86a4d28af0c8b380",
       "version_major": 2,
       "version_minor": 0
      },
      "text/plain": [
       "Resolving data files:   0%|          | 0/2755 [00:00<?, ?it/s]"
      ]
     },
     "metadata": {},
     "output_type": "display_data"
    }
   ],
   "source": [
    "from datasets import load_dataset\n",
    "\n",
    "dataset = load_dataset(\"jmaczan/TORGO\", split=\"train\", use_auth_token=True)"
   ]
  },
  {
   "cell_type": "code",
   "execution_count": 25,
   "metadata": {},
   "outputs": [
    {
     "data": {
      "text/plain": [
       "Dataset({\n",
       "    features: ['audio', 'transcription'],\n",
       "    num_rows: 2754\n",
       "})"
      ]
     },
     "execution_count": 25,
     "metadata": {},
     "output_type": "execute_result"
    }
   ],
   "source": [
    "dataset"
   ]
  },
  {
   "cell_type": "code",
   "execution_count": 26,
   "metadata": {},
   "outputs": [
    {
     "data": {
      "text/plain": [
       "['stick',\n",
       " 'tear ',\n",
       " 'except in the winter when the ooze or snow or ice prevents',\n",
       " 'pat',\n",
       " 'up',\n",
       " 'meat',\n",
       " 'meat',\n",
       " 'know',\n",
       " 'he slowly takes a short walk in the open air each day',\n",
       " 'air',\n",
       " 'swarm',\n",
       " 'double',\n",
       " 'no',\n",
       " 'storm',\n",
       " 'usually minus several buttons',\n",
       " 'dug',\n",
       " 'you wished to know all about my grandfather',\n",
       " 'knee',\n",
       " 'feet',\n",
       " 'train',\n",
       " 'but he always answers banana oil',\n",
       " 'but he always answers banana oil',\n",
       " 'beat',\n",
       " 'the quick brown fox jumps over the lazy dog',\n",
       " 'the quick brown fox jumps over the lazy dog',\n",
       " 'she had your dark suit in greasy wash water all year',\n",
       " 'car',\n",
       " 'feet',\n",
       " 'giving those who observe him a pronounced feeling of the utmost respect',\n",
       " 'we have often urged him to walk more and smoke less',\n",
       " 'rake',\n",
       " 'swore',\n",
       " 'rave',\n",
       " 'rave',\n",
       " 'for',\n",
       " 'sip',\n",
       " 'grow',\n",
       " 'bit',\n",
       " 'chair',\n",
       " 'one',\n",
       " 'fair',\n",
       " 'two',\n",
       " 'beta',\n",
       " 'rage',\n",
       " 'spark',\n",
       " 'swarm',\n",
       " 'beat',\n",
       " 'race',\n",
       " 'the',\n",
       " 'the',\n",
       " 'form',\n",
       " 'dark',\n",
       " 'sip',\n",
       " 'farm',\n",
       " 'raid',\n",
       " 'fee',\n",
       " 'weed',\n",
       " 'bat',\n",
       " 'horn',\n",
       " 'jagged',\n",
       " 'sheet',\n",
       " 'chair',\n",
       " 'bubble',\n",
       " 'warm',\n",
       " 'ship',\n",
       " 'air',\n",
       " 'hair',\n",
       " 'share',\n",
       " 'rate',\n",
       " 'goat',\n",
       " 'trace',\n",
       " 'sip',\n",
       " 'go',\n",
       " 'alpha',\n",
       " 'left',\n",
       " 'sticks',\n",
       " 'trouble',\n",
       " 'dagger',\n",
       " 'read ',\n",
       " 'a long flowing beard clings to his chin',\n",
       " 'slip',\n",
       " 'glow',\n",
       " 'trade',\n",
       " 'range',\n",
       " 'stubble',\n",
       " 'floor',\n",
       " 'bug',\n",
       " 'bug',\n",
       " 'lead ',\n",
       " 'yet he still thinks as swiftly as ever',\n",
       " 'yet he still thinks as swiftly as ever',\n",
       " 'yet he still thinks as swiftly as ever',\n",
       " 'read ',\n",
       " 'jacket',\n",
       " 'born',\n",
       " 'warm',\n",
       " 'corn',\n",
       " 'right',\n",
       " 'knew',\n",
       " 'well he is nearly ninety three years old',\n",
       " 'feed',\n",
       " 'twice each day he plays skillfully and with zest upon our small organ',\n",
       " 'feed',\n",
       " 'knew',\n",
       " 'rain',\n",
       " 'park',\n",
       " 'tip',\n",
       " 'down',\n",
       " 'gadget',\n",
       " 'store',\n",
       " 'he dresses himself in an ancient black frock coat',\n",
       " 'storm',\n",
       " 'storm',\n",
       " 'grandfather likes to be modern in his language',\n",
       " 'torn',\n",
       " 'when he speaks his voice is just a bit cracked and quivers a trifle',\n",
       " 'trait',\n",
       " 'yes']"
      ]
     },
     "execution_count": 26,
     "metadata": {},
     "output_type": "execute_result"
    }
   ],
   "source": [
    "text = dataset['transcription']\n",
    "text[:118]"
   ]
  },
  {
   "cell_type": "code",
   "execution_count": 31,
   "metadata": {},
   "outputs": [],
   "source": [
    "test_texts = [\n",
    "'stick',\n",
    "'tear ',\n",
    "'except in the winter when the ooze or snow or ice prevents',\n",
    "'meat',\n",
    "'know',\n",
    "'he slowly takes a short walk in the open air each day',\n",
    "'feet',\n",
    "'train',\n",
    "'when he speaks his voice is just a bit cracked and quivers a trifle',\n",
    "'knee',\n",
    "]"
   ]
  },
  {
   "cell_type": "code",
   "execution_count": 33,
   "metadata": {},
   "outputs": [],
   "source": [
    "from datasets import load_dataset, Dataset\n",
    "\n",
    "def split_dataset(dataset, test_texts):\n",
    "    test_data = []\n",
    "    train_data = []\n",
    "    \n",
    "    for item in dataset:\n",
    "        if item['transcription'] in test_texts:\n",
    "            test_data.append(item)\n",
    "        else:\n",
    "            train_data.append(item)\n",
    "    \n",
    "    return Dataset.from_list(train_data), Dataset.from_list(test_data)"
   ]
  },
  {
   "cell_type": "code",
   "execution_count": 34,
   "metadata": {},
   "outputs": [
    {
     "name": "stdout",
     "output_type": "stream",
     "text": [
      "Total dataset size: 2754\n",
      "Train set size: 2636\n",
      "Test set size: 118\n",
      "\n",
      "Some items in the test set:\n"
     ]
    },
    {
     "ename": "TypeError",
     "evalue": "string indices must be integers",
     "output_type": "error",
     "traceback": [
      "\u001b[0;31m---------------------------------------------------------------------------\u001b[0m",
      "\u001b[0;31mTypeError\u001b[0m                                 Traceback (most recent call last)",
      "Cell \u001b[0;32mIn[34], line 10\u001b[0m\n\u001b[1;32m      8\u001b[0m \u001b[38;5;28mprint\u001b[39m(\u001b[38;5;124m\"\u001b[39m\u001b[38;5;130;01m\\n\u001b[39;00m\u001b[38;5;124mSome items in the test set:\u001b[39m\u001b[38;5;124m\"\u001b[39m)\n\u001b[1;32m      9\u001b[0m \u001b[38;5;28;01mfor\u001b[39;00m item \u001b[38;5;129;01min\u001b[39;00m test_data[:\u001b[38;5;241m5\u001b[39m]:\n\u001b[0;32m---> 10\u001b[0m     \u001b[38;5;28mprint\u001b[39m(\u001b[43mitem\u001b[49m\u001b[43m[\u001b[49m\u001b[38;5;124;43m'\u001b[39;49m\u001b[38;5;124;43mtranscription\u001b[39;49m\u001b[38;5;124;43m'\u001b[39;49m\u001b[43m]\u001b[49m)\n",
      "\u001b[0;31mTypeError\u001b[0m: string indices must be integers"
     ]
    }
   ],
   "source": [
    "train_data, test_data = split_dataset(dataset, test_texts)\n",
    "\n",
    "print(f\"Total dataset size: {len(dataset)}\")\n",
    "print(f\"Train set size: {len(train_data)}\")\n",
    "print(f\"Test set size: {len(test_data)}\")\n"
   ]
  },
  {
   "cell_type": "code",
   "execution_count": 19,
   "metadata": {},
   "outputs": [
    {
     "data": {
      "text/plain": [
       "{'path': '/home/sabina/.cache/huggingface/datasets/downloads/9f95b2d7733f6dfb9a0f7688f91d1432bc8114b034a763ec70324c6c8cbbafa2',\n",
       " 'array': array([-0.00140381,  0.00109863, -0.00393677, ...,  0.00238037,\n",
       "         0.00112915, -0.0012207 ]),\n",
       " 'sampling_rate': 16000}"
      ]
     },
     "execution_count": 19,
     "metadata": {},
     "output_type": "execute_result"
    }
   ],
   "source": [
    "dataset['audio'][117]"
   ]
  },
  {
   "cell_type": "code",
   "execution_count": 20,
   "metadata": {},
   "outputs": [
    {
     "data": {
      "text/html": [
       "\n",
       "                <audio  controls=\"controls\" >\n",
       "                    <source src=\"data:audio/wav;base64,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\" type=\"audio/wav\" />\n",
       "                    Your browser does not support the audio element.\n",
       "                </audio>\n",
       "              "
      ],
      "text/plain": [
       "<IPython.lib.display.Audio object>"
      ]
     },
     "execution_count": 20,
     "metadata": {},
     "output_type": "execute_result"
    }
   ],
   "source": [
    "sample = dataset['audio'][117]['array']\n",
    "# play audio\n",
    "import IPython.display as ipd\n",
    "ipd.Audio(sample, rate=16000)"
   ]
  },
  {
   "cell_type": "code",
   "execution_count": null,
   "metadata": {},
   "outputs": [],
   "source": []
  }
 ],
 "metadata": {
  "kernelspec": {
   "display_name": "Python 3",
   "language": "python",
   "name": "python3"
  },
  "language_info": {
   "codemirror_mode": {
    "name": "ipython",
    "version": 3
   },
   "file_extension": ".py",
   "mimetype": "text/x-python",
   "name": "python",
   "nbconvert_exporter": "python",
   "pygments_lexer": "ipython3",
   "version": "3.8.19"
  }
 },
 "nbformat": 4,
 "nbformat_minor": 2
}
