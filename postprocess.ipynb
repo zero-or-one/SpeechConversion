{
 "cells": [
  {
   "cell_type": "markdown",
   "metadata": {},
   "source": [
    "# Quantize and upload"
   ]
  },
  {
   "cell_type": "code",
   "execution_count": 13,
   "metadata": {},
   "outputs": [
    {
     "name": "stdout",
     "output_type": "stream",
     "text": [
      "config.json: 100%|█████████████████████████| 1.25k/1.25k [00:00<00:00, 8.02MB/s]\n",
      "tokenizer_config.json: 100%|█████████████████| 283k/283k [00:00<00:00, 1.66MB/s]\n",
      "merges.txt: 100%|████████████████████████████| 494k/494k [00:00<00:00, 2.81MB/s]\n",
      "added_tokens.json: 100%|████████████████████| 34.6k/34.6k [00:00<00:00, 151MB/s]\n",
      "special_tokens_map.json: 100%|█████████████| 2.19k/2.19k [00:00<00:00, 18.0MB/s]\n",
      "Special tokens have been added in the vocabulary, make sure the associated word embeddings are fine-tuned or trained.\n",
      "preprocessor_config.json: 100%|████████████████| 340/340 [00:00<00:00, 2.50MB/s]\n"
     ]
    }
   ],
   "source": [
    "!ct2-transformers-converter --model ghost613/VC-20dB-IMJ_Woman-01-27-58.20 --output_dir VC-20dB-IMJ_Woman-01-27-58.20 --copy_files tokenizer_config.json preprocessor_config.json --force --revision '348fd0412ddac4e60d56dda36458e134d35f8d4d'"
   ]
  },
  {
   "cell_type": "code",
   "execution_count": 1,
   "metadata": {},
   "outputs": [
    {
     "name": "stderr",
     "output_type": "stream",
     "text": [
      "/home/ali/.venv/lib/python3.11/site-packages/tqdm/auto.py:21: TqdmWarning: IProgress not found. Please update jupyter and ipywidgets. See https://ipywidgets.readthedocs.io/en/stable/user_install.html\n",
      "  from .autonotebook import tqdm as notebook_tqdm\n",
      "No files have been modified since last commit. Skipping to prevent empty commit.\n"
     ]
    },
    {
     "data": {
      "text/plain": [
       "CommitInfo(commit_url='https://huggingface.co/ghost613/VC-almost-all-09-33-15.52/commit/7970985da6e2219cfd3f6366df65c2243dcd203f', commit_message='Upload folder using huggingface_hub', commit_description='', oid='7970985da6e2219cfd3f6366df65c2243dcd203f', pr_url=None, repo_url=RepoUrl('https://huggingface.co/ghost613/VC-almost-all-09-33-15.52', endpoint='https://huggingface.co', repo_type='model', repo_id='ghost613/VC-almost-all-09-33-15.52'), pr_revision=None, pr_num=None)"
      ]
     },
     "execution_count": 1,
     "metadata": {},
     "output_type": "execute_result"
    }
   ],
   "source": [
    "from huggingface_hub import HfApi\n",
    "\n",
    "api = HfApi()\n",
    "\n",
    "# First, create the repository\n",
    "#api.create_repo(\n",
    "#    repo_id=\"ghost613/whisper-large-v3-turbo-faster-korean\",\n",
    "#    repo_type=\"model\",\n",
    "#    private=False  # Set to True if you want a private repository\n",
    "#)\n",
    "\n",
    "model_name = 'VC-almost-all-09-33-15.52'\n",
    "api.upload_folder(\n",
    "    folder_path=model_name,\n",
    "    path_in_repo=\".\",\n",
    "    repo_id=f'ghost613/{model_name}',\n",
    "    repo_type=\"model\"  # or 'dataset' depending on the repo type\n",
    ")"
   ]
  },
  {
   "cell_type": "code",
   "execution_count": 12,
   "metadata": {},
   "outputs": [
    {
     "name": "stderr",
     "output_type": "stream",
     "text": [
      "Fetching 17 files:   6%|▌         | 1/17 [00:00<00:06,  2.62it/s]Could not set the permissions on the file 'VC-20dB-IMJ_Woman-01-27-58.20/.cache/huggingface/download/runs/Oct28_07-08-06_whisper-finetune.asia-northeast3-a.c.sabina-404403.internal/events.out.tfevents.1730099289.whisper-finetune.asia-northeast3-a.c.sabina-404403.internal.13563.0.cf5ef40835a8f05d35cfcbfff3d7145efb4e2e896df6f5878ef0960cc2222a50.incomplete'. Error: [Errno 2] No such file or directory: 'VC-20dB-IMJ_Woman-01-27-58.20/runs/tmp_1f7b1837-8af5-42e9-a7fe-6114af10b025'.\n",
      "Continuing without setting permissions.\n",
      "Could not set the permissions on the file 'VC-20dB-IMJ_Woman-01-27-58.20/.cache/huggingface/download/runs/Oct29_03-25-08_whisper-finetune.asia-northeast3-a.c.sabina-404403.internal/events.out.tfevents.1730172311.whisper-finetune.asia-northeast3-a.c.sabina-404403.internal.2052543.0.1399dd0021f948c1fdc2185b150480325c1b9c4a7d2b841b622e184941613c71.incomplete'. Error: [Errno 2] No such file or directory: 'VC-20dB-IMJ_Woman-01-27-58.20/runs/tmp_f3118b59-0b28-4353-8e3d-581dccf31625'.\n",
      "Continuing without setting permissions.\n",
      "Could not set the permissions on the file 'VC-20dB-IMJ_Woman-01-27-58.20/.cache/huggingface/download/runs/Oct29_03-30-52_whisper-finetune.asia-northeast3-a.c.sabina-404403.internal/events.out.tfevents.1730172655.whisper-finetune.asia-northeast3-a.c.sabina-404403.internal.2109566.0.8257397c2229903e9fe79ff3c89a31979f96216d31e93770bc1f2f49ec717f89.incomplete'. Error: [Errno 2] No such file or directory: 'VC-20dB-IMJ_Woman-01-27-58.20/runs/tmp_18e27ecc-68ae-4422-9c00-aaf5590f5268'.\n",
      "Continuing without setting permissions.\n",
      "Fetching 17 files:  47%|████▋     | 8/17 [01:17<01:27,  9.75s/it]\n"
     ]
    },
    {
     "ename": "FileNotFoundError",
     "evalue": "[Errno 2] No such file or directory: 'VC-20dB-IMJ_Woman-01-27-58.20/runs/Oct28_07-08-06_whisper-finetune.asia-northeast3-a.c.sabina-404403.internal/events.out.tfevents.1730099289.whisper-finetune.asia-northeast3-a.c.sabina-404403.internal.13563.0'",
     "output_type": "error",
     "traceback": [
      "\u001b[0;31m---------------------------------------------------------------------------\u001b[0m",
      "\u001b[0;31mFileNotFoundError\u001b[0m                         Traceback (most recent call last)",
      "File \u001b[0;32m/usr/lib/python3.11/shutil.py:825\u001b[0m, in \u001b[0;36mmove\u001b[0;34m(src, dst, copy_function)\u001b[0m\n\u001b[1;32m    824\u001b[0m \u001b[38;5;28;01mtry\u001b[39;00m:\n\u001b[0;32m--> 825\u001b[0m     os\u001b[38;5;241m.\u001b[39mrename(src, real_dst)\n\u001b[1;32m    826\u001b[0m \u001b[38;5;28;01mexcept\u001b[39;00m \u001b[38;5;167;01mOSError\u001b[39;00m:\n",
      "\u001b[0;31mFileNotFoundError\u001b[0m: [Errno 2] No such file or directory: 'VC-20dB-IMJ_Woman-01-27-58.20/.cache/huggingface/download/runs/Oct28_07-08-06_whisper-finetune.asia-northeast3-a.c.sabina-404403.internal/events.out.tfevents.1730099289.whisper-finetune.asia-northeast3-a.c.sabina-404403.internal.13563.0.cf5ef40835a8f05d35cfcbfff3d7145efb4e2e896df6f5878ef0960cc2222a50.incomplete' -> 'VC-20dB-IMJ_Woman-01-27-58.20/runs/Oct28_07-08-06_whisper-finetune.asia-northeast3-a.c.sabina-404403.internal/events.out.tfevents.1730099289.whisper-finetune.asia-northeast3-a.c.sabina-404403.internal.13563.0'",
      "\nDuring handling of the above exception, another exception occurred:\n",
      "\u001b[0;31mFileNotFoundError\u001b[0m                         Traceback (most recent call last)",
      "File \u001b[0;32m~/.venv/lib/python3.11/site-packages/huggingface_hub/file_download.py:1978\u001b[0m, in \u001b[0;36m_copy_no_matter_what\u001b[0;34m(src, dst)\u001b[0m\n\u001b[1;32m   1975\u001b[0m \u001b[38;5;28;01mtry\u001b[39;00m:\n\u001b[1;32m   1976\u001b[0m     \u001b[38;5;66;03m# Copy file with metadata and permission\u001b[39;00m\n\u001b[1;32m   1977\u001b[0m     \u001b[38;5;66;03m# Can fail e.g. if dst is an S3 mount\u001b[39;00m\n\u001b[0;32m-> 1978\u001b[0m     \u001b[43mshutil\u001b[49m\u001b[38;5;241;43m.\u001b[39;49m\u001b[43mcopy2\u001b[49m\u001b[43m(\u001b[49m\u001b[43msrc\u001b[49m\u001b[43m,\u001b[49m\u001b[43m \u001b[49m\u001b[43mdst\u001b[49m\u001b[43m)\u001b[49m\n\u001b[1;32m   1979\u001b[0m \u001b[38;5;28;01mexcept\u001b[39;00m \u001b[38;5;167;01mOSError\u001b[39;00m:\n\u001b[1;32m   1980\u001b[0m     \u001b[38;5;66;03m# Copy only file content\u001b[39;00m\n",
      "File \u001b[0;32m/usr/lib/python3.11/shutil.py:436\u001b[0m, in \u001b[0;36mcopy2\u001b[0;34m(src, dst, follow_symlinks)\u001b[0m\n\u001b[1;32m    435\u001b[0m     dst \u001b[38;5;241m=\u001b[39m os\u001b[38;5;241m.\u001b[39mpath\u001b[38;5;241m.\u001b[39mjoin(dst, os\u001b[38;5;241m.\u001b[39mpath\u001b[38;5;241m.\u001b[39mbasename(src))\n\u001b[0;32m--> 436\u001b[0m \u001b[43mcopyfile\u001b[49m\u001b[43m(\u001b[49m\u001b[43msrc\u001b[49m\u001b[43m,\u001b[49m\u001b[43m \u001b[49m\u001b[43mdst\u001b[49m\u001b[43m,\u001b[49m\u001b[43m \u001b[49m\u001b[43mfollow_symlinks\u001b[49m\u001b[38;5;241;43m=\u001b[39;49m\u001b[43mfollow_symlinks\u001b[49m\u001b[43m)\u001b[49m\n\u001b[1;32m    437\u001b[0m copystat(src, dst, follow_symlinks\u001b[38;5;241m=\u001b[39mfollow_symlinks)\n",
      "File \u001b[0;32m/usr/lib/python3.11/shutil.py:258\u001b[0m, in \u001b[0;36mcopyfile\u001b[0;34m(src, dst, follow_symlinks)\u001b[0m\n\u001b[1;32m    257\u001b[0m \u001b[38;5;28;01mtry\u001b[39;00m:\n\u001b[0;32m--> 258\u001b[0m     \u001b[38;5;28;01mwith\u001b[39;00m \u001b[38;5;28mopen\u001b[39m(dst, \u001b[38;5;124m'\u001b[39m\u001b[38;5;124mwb\u001b[39m\u001b[38;5;124m'\u001b[39m) \u001b[38;5;28;01mas\u001b[39;00m fdst:\n\u001b[1;32m    259\u001b[0m         \u001b[38;5;66;03m# macOS\u001b[39;00m\n\u001b[1;32m    260\u001b[0m         \u001b[38;5;28;01mif\u001b[39;00m _HAS_FCOPYFILE:\n",
      "\u001b[0;31mFileNotFoundError\u001b[0m: [Errno 2] No such file or directory: 'VC-20dB-IMJ_Woman-01-27-58.20/runs/Oct28_07-08-06_whisper-finetune.asia-northeast3-a.c.sabina-404403.internal/events.out.tfevents.1730099289.whisper-finetune.asia-northeast3-a.c.sabina-404403.internal.13563.0'",
      "\nDuring handling of the above exception, another exception occurred:\n",
      "\u001b[0;31mFileNotFoundError\u001b[0m                         Traceback (most recent call last)",
      "Cell \u001b[0;32mIn[12], line 4\u001b[0m\n\u001b[1;32m      1\u001b[0m \u001b[38;5;28;01mfrom\u001b[39;00m \u001b[38;5;21;01mhuggingface_hub\u001b[39;00m \u001b[38;5;28;01mimport\u001b[39;00m snapshot_download\n\u001b[1;32m      3\u001b[0m \u001b[38;5;66;03m# Download the repository\u001b[39;00m\n\u001b[0;32m----> 4\u001b[0m \u001b[43msnapshot_download\u001b[49m\u001b[43m(\u001b[49m\n\u001b[1;32m      5\u001b[0m \u001b[43m    \u001b[49m\u001b[43mrepo_id\u001b[49m\u001b[38;5;241;43m=\u001b[39;49m\u001b[38;5;124;43m\"\u001b[39;49m\u001b[38;5;124;43mghost613/VC-20dB-IMJ_Woman-01-27-58.20\u001b[39;49m\u001b[38;5;124;43m\"\u001b[39;49m\u001b[43m,\u001b[49m\n\u001b[1;32m      6\u001b[0m \u001b[43m    \u001b[49m\u001b[43mrepo_type\u001b[49m\u001b[38;5;241;43m=\u001b[39;49m\u001b[38;5;124;43m\"\u001b[39;49m\u001b[38;5;124;43mmodel\u001b[39;49m\u001b[38;5;124;43m\"\u001b[39;49m\u001b[43m,\u001b[49m\u001b[43m \u001b[49m\n\u001b[1;32m      7\u001b[0m \u001b[43m    \u001b[49m\u001b[43mrevision\u001b[49m\u001b[43m \u001b[49m\u001b[38;5;241;43m=\u001b[39;49m\u001b[43m \u001b[49m\u001b[38;5;124;43m'\u001b[39;49m\u001b[38;5;124;43m348fd0412ddac4e60d56dda36458e134d35f8d4d\u001b[39;49m\u001b[38;5;124;43m'\u001b[39;49m\u001b[43m,\u001b[49m\n\u001b[1;32m      8\u001b[0m \u001b[43m    \u001b[49m\u001b[43mlocal_dir\u001b[49m\u001b[38;5;241;43m=\u001b[39;49m\u001b[38;5;124;43m\"\u001b[39;49m\u001b[38;5;124;43mVC-20dB-IMJ_Woman-01-27-58.20\u001b[39;49m\u001b[38;5;124;43m\"\u001b[39;49m\u001b[43m)\u001b[49m\n",
      "File \u001b[0;32m~/.venv/lib/python3.11/site-packages/huggingface_hub/utils/_validators.py:114\u001b[0m, in \u001b[0;36mvalidate_hf_hub_args.<locals>._inner_fn\u001b[0;34m(*args, **kwargs)\u001b[0m\n\u001b[1;32m    111\u001b[0m \u001b[38;5;28;01mif\u001b[39;00m check_use_auth_token:\n\u001b[1;32m    112\u001b[0m     kwargs \u001b[38;5;241m=\u001b[39m smoothly_deprecate_use_auth_token(fn_name\u001b[38;5;241m=\u001b[39mfn\u001b[38;5;241m.\u001b[39m\u001b[38;5;18m__name__\u001b[39m, has_token\u001b[38;5;241m=\u001b[39mhas_token, kwargs\u001b[38;5;241m=\u001b[39mkwargs)\n\u001b[0;32m--> 114\u001b[0m \u001b[38;5;28;01mreturn\u001b[39;00m \u001b[43mfn\u001b[49m\u001b[43m(\u001b[49m\u001b[38;5;241;43m*\u001b[39;49m\u001b[43margs\u001b[49m\u001b[43m,\u001b[49m\u001b[43m \u001b[49m\u001b[38;5;241;43m*\u001b[39;49m\u001b[38;5;241;43m*\u001b[39;49m\u001b[43mkwargs\u001b[49m\u001b[43m)\u001b[49m\n",
      "File \u001b[0;32m~/.venv/lib/python3.11/site-packages/huggingface_hub/_snapshot_download.py:293\u001b[0m, in \u001b[0;36msnapshot_download\u001b[0;34m(repo_id, repo_type, revision, cache_dir, local_dir, library_name, library_version, user_agent, proxies, etag_timeout, force_download, token, local_files_only, allow_patterns, ignore_patterns, max_workers, tqdm_class, headers, endpoint, local_dir_use_symlinks, resume_download)\u001b[0m\n\u001b[1;32m    291\u001b[0m         _inner_hf_hub_download(file)\n\u001b[1;32m    292\u001b[0m \u001b[38;5;28;01melse\u001b[39;00m:\n\u001b[0;32m--> 293\u001b[0m     \u001b[43mthread_map\u001b[49m\u001b[43m(\u001b[49m\n\u001b[1;32m    294\u001b[0m \u001b[43m        \u001b[49m\u001b[43m_inner_hf_hub_download\u001b[49m\u001b[43m,\u001b[49m\n\u001b[1;32m    295\u001b[0m \u001b[43m        \u001b[49m\u001b[43mfiltered_repo_files\u001b[49m\u001b[43m,\u001b[49m\n\u001b[1;32m    296\u001b[0m \u001b[43m        \u001b[49m\u001b[43mdesc\u001b[49m\u001b[38;5;241;43m=\u001b[39;49m\u001b[38;5;124;43mf\u001b[39;49m\u001b[38;5;124;43m\"\u001b[39;49m\u001b[38;5;124;43mFetching \u001b[39;49m\u001b[38;5;132;43;01m{\u001b[39;49;00m\u001b[38;5;28;43mlen\u001b[39;49m\u001b[43m(\u001b[49m\u001b[43mfiltered_repo_files\u001b[49m\u001b[43m)\u001b[49m\u001b[38;5;132;43;01m}\u001b[39;49;00m\u001b[38;5;124;43m files\u001b[39;49m\u001b[38;5;124;43m\"\u001b[39;49m\u001b[43m,\u001b[49m\n\u001b[1;32m    297\u001b[0m \u001b[43m        \u001b[49m\u001b[43mmax_workers\u001b[49m\u001b[38;5;241;43m=\u001b[39;49m\u001b[43mmax_workers\u001b[49m\u001b[43m,\u001b[49m\n\u001b[1;32m    298\u001b[0m \u001b[43m        \u001b[49m\u001b[38;5;66;43;03m# User can use its own tqdm class or the default one from `huggingface_hub.utils`\u001b[39;49;00m\n\u001b[1;32m    299\u001b[0m \u001b[43m        \u001b[49m\u001b[43mtqdm_class\u001b[49m\u001b[38;5;241;43m=\u001b[39;49m\u001b[43mtqdm_class\u001b[49m\u001b[43m \u001b[49m\u001b[38;5;129;43;01mor\u001b[39;49;00m\u001b[43m \u001b[49m\u001b[43mhf_tqdm\u001b[49m\u001b[43m,\u001b[49m\n\u001b[1;32m    300\u001b[0m \u001b[43m    \u001b[49m\u001b[43m)\u001b[49m\n\u001b[1;32m    302\u001b[0m \u001b[38;5;28;01mif\u001b[39;00m local_dir \u001b[38;5;129;01mis\u001b[39;00m \u001b[38;5;129;01mnot\u001b[39;00m \u001b[38;5;28;01mNone\u001b[39;00m:\n\u001b[1;32m    303\u001b[0m     \u001b[38;5;28;01mreturn\u001b[39;00m \u001b[38;5;28mstr\u001b[39m(os\u001b[38;5;241m.\u001b[39mpath\u001b[38;5;241m.\u001b[39mrealpath(local_dir))\n",
      "File \u001b[0;32m~/.venv/lib/python3.11/site-packages/tqdm/contrib/concurrent.py:69\u001b[0m, in \u001b[0;36mthread_map\u001b[0;34m(fn, *iterables, **tqdm_kwargs)\u001b[0m\n\u001b[1;32m     55\u001b[0m \u001b[38;5;250m\u001b[39m\u001b[38;5;124;03m\"\"\"\u001b[39;00m\n\u001b[1;32m     56\u001b[0m \u001b[38;5;124;03mEquivalent of `list(map(fn, *iterables))`\u001b[39;00m\n\u001b[1;32m     57\u001b[0m \u001b[38;5;124;03mdriven by `concurrent.futures.ThreadPoolExecutor`.\u001b[39;00m\n\u001b[0;32m   (...)\u001b[0m\n\u001b[1;32m     66\u001b[0m \u001b[38;5;124;03m    [default: max(32, cpu_count() + 4)].\u001b[39;00m\n\u001b[1;32m     67\u001b[0m \u001b[38;5;124;03m\"\"\"\u001b[39;00m\n\u001b[1;32m     68\u001b[0m \u001b[38;5;28;01mfrom\u001b[39;00m \u001b[38;5;21;01mconcurrent\u001b[39;00m\u001b[38;5;21;01m.\u001b[39;00m\u001b[38;5;21;01mfutures\u001b[39;00m \u001b[38;5;28;01mimport\u001b[39;00m ThreadPoolExecutor\n\u001b[0;32m---> 69\u001b[0m \u001b[38;5;28;01mreturn\u001b[39;00m \u001b[43m_executor_map\u001b[49m\u001b[43m(\u001b[49m\u001b[43mThreadPoolExecutor\u001b[49m\u001b[43m,\u001b[49m\u001b[43m \u001b[49m\u001b[43mfn\u001b[49m\u001b[43m,\u001b[49m\u001b[43m \u001b[49m\u001b[38;5;241;43m*\u001b[39;49m\u001b[43miterables\u001b[49m\u001b[43m,\u001b[49m\u001b[43m \u001b[49m\u001b[38;5;241;43m*\u001b[39;49m\u001b[38;5;241;43m*\u001b[39;49m\u001b[43mtqdm_kwargs\u001b[49m\u001b[43m)\u001b[49m\n",
      "File \u001b[0;32m~/.venv/lib/python3.11/site-packages/tqdm/contrib/concurrent.py:51\u001b[0m, in \u001b[0;36m_executor_map\u001b[0;34m(PoolExecutor, fn, *iterables, **tqdm_kwargs)\u001b[0m\n\u001b[1;32m     47\u001b[0m \u001b[38;5;28;01mwith\u001b[39;00m ensure_lock(tqdm_class, lock_name\u001b[38;5;241m=\u001b[39mlock_name) \u001b[38;5;28;01mas\u001b[39;00m lk:\n\u001b[1;32m     48\u001b[0m     \u001b[38;5;66;03m# share lock in case workers are already using `tqdm`\u001b[39;00m\n\u001b[1;32m     49\u001b[0m     \u001b[38;5;28;01mwith\u001b[39;00m PoolExecutor(max_workers\u001b[38;5;241m=\u001b[39mmax_workers, initializer\u001b[38;5;241m=\u001b[39mtqdm_class\u001b[38;5;241m.\u001b[39mset_lock,\n\u001b[1;32m     50\u001b[0m                       initargs\u001b[38;5;241m=\u001b[39m(lk,)) \u001b[38;5;28;01mas\u001b[39;00m ex:\n\u001b[0;32m---> 51\u001b[0m         \u001b[38;5;28;01mreturn\u001b[39;00m \u001b[38;5;28mlist\u001b[39m(tqdm_class(ex\u001b[38;5;241m.\u001b[39mmap(fn, \u001b[38;5;241m*\u001b[39miterables, chunksize\u001b[38;5;241m=\u001b[39mchunksize), \u001b[38;5;241m*\u001b[39m\u001b[38;5;241m*\u001b[39mkwargs))\n",
      "File \u001b[0;32m~/.venv/lib/python3.11/site-packages/tqdm/std.py:1181\u001b[0m, in \u001b[0;36mtqdm.__iter__\u001b[0;34m(self)\u001b[0m\n\u001b[1;32m   1178\u001b[0m time \u001b[38;5;241m=\u001b[39m \u001b[38;5;28mself\u001b[39m\u001b[38;5;241m.\u001b[39m_time\n\u001b[1;32m   1180\u001b[0m \u001b[38;5;28;01mtry\u001b[39;00m:\n\u001b[0;32m-> 1181\u001b[0m \u001b[43m    \u001b[49m\u001b[38;5;28;43;01mfor\u001b[39;49;00m\u001b[43m \u001b[49m\u001b[43mobj\u001b[49m\u001b[43m \u001b[49m\u001b[38;5;129;43;01min\u001b[39;49;00m\u001b[43m \u001b[49m\u001b[43miterable\u001b[49m\u001b[43m:\u001b[49m\n\u001b[1;32m   1182\u001b[0m \u001b[43m        \u001b[49m\u001b[38;5;28;43;01myield\u001b[39;49;00m\u001b[43m \u001b[49m\u001b[43mobj\u001b[49m\n\u001b[1;32m   1183\u001b[0m \u001b[43m        \u001b[49m\u001b[38;5;66;43;03m# Update and possibly print the progressbar.\u001b[39;49;00m\n\u001b[1;32m   1184\u001b[0m \u001b[43m        \u001b[49m\u001b[38;5;66;43;03m# Note: does not call self.update(1) for speed optimisation.\u001b[39;49;00m\n",
      "File \u001b[0;32m/usr/lib/python3.11/concurrent/futures/_base.py:619\u001b[0m, in \u001b[0;36mExecutor.map.<locals>.result_iterator\u001b[0;34m()\u001b[0m\n\u001b[1;32m    616\u001b[0m \u001b[38;5;28;01mwhile\u001b[39;00m fs:\n\u001b[1;32m    617\u001b[0m     \u001b[38;5;66;03m# Careful not to keep a reference to the popped future\u001b[39;00m\n\u001b[1;32m    618\u001b[0m     \u001b[38;5;28;01mif\u001b[39;00m timeout \u001b[38;5;129;01mis\u001b[39;00m \u001b[38;5;28;01mNone\u001b[39;00m:\n\u001b[0;32m--> 619\u001b[0m         \u001b[38;5;28;01myield\u001b[39;00m \u001b[43m_result_or_cancel\u001b[49m\u001b[43m(\u001b[49m\u001b[43mfs\u001b[49m\u001b[38;5;241;43m.\u001b[39;49m\u001b[43mpop\u001b[49m\u001b[43m(\u001b[49m\u001b[43m)\u001b[49m\u001b[43m)\u001b[49m\n\u001b[1;32m    620\u001b[0m     \u001b[38;5;28;01melse\u001b[39;00m:\n\u001b[1;32m    621\u001b[0m         \u001b[38;5;28;01myield\u001b[39;00m _result_or_cancel(fs\u001b[38;5;241m.\u001b[39mpop(), end_time \u001b[38;5;241m-\u001b[39m time\u001b[38;5;241m.\u001b[39mmonotonic())\n",
      "File \u001b[0;32m/usr/lib/python3.11/concurrent/futures/_base.py:317\u001b[0m, in \u001b[0;36m_result_or_cancel\u001b[0;34m(***failed resolving arguments***)\u001b[0m\n\u001b[1;32m    315\u001b[0m \u001b[38;5;28;01mtry\u001b[39;00m:\n\u001b[1;32m    316\u001b[0m     \u001b[38;5;28;01mtry\u001b[39;00m:\n\u001b[0;32m--> 317\u001b[0m         \u001b[38;5;28;01mreturn\u001b[39;00m \u001b[43mfut\u001b[49m\u001b[38;5;241;43m.\u001b[39;49m\u001b[43mresult\u001b[49m\u001b[43m(\u001b[49m\u001b[43mtimeout\u001b[49m\u001b[43m)\u001b[49m\n\u001b[1;32m    318\u001b[0m     \u001b[38;5;28;01mfinally\u001b[39;00m:\n\u001b[1;32m    319\u001b[0m         fut\u001b[38;5;241m.\u001b[39mcancel()\n",
      "File \u001b[0;32m/usr/lib/python3.11/concurrent/futures/_base.py:449\u001b[0m, in \u001b[0;36mFuture.result\u001b[0;34m(self, timeout)\u001b[0m\n\u001b[1;32m    447\u001b[0m     \u001b[38;5;28;01mraise\u001b[39;00m CancelledError()\n\u001b[1;32m    448\u001b[0m \u001b[38;5;28;01melif\u001b[39;00m \u001b[38;5;28mself\u001b[39m\u001b[38;5;241m.\u001b[39m_state \u001b[38;5;241m==\u001b[39m FINISHED:\n\u001b[0;32m--> 449\u001b[0m     \u001b[38;5;28;01mreturn\u001b[39;00m \u001b[38;5;28;43mself\u001b[39;49m\u001b[38;5;241;43m.\u001b[39;49m\u001b[43m__get_result\u001b[49m\u001b[43m(\u001b[49m\u001b[43m)\u001b[49m\n\u001b[1;32m    451\u001b[0m \u001b[38;5;28mself\u001b[39m\u001b[38;5;241m.\u001b[39m_condition\u001b[38;5;241m.\u001b[39mwait(timeout)\n\u001b[1;32m    453\u001b[0m \u001b[38;5;28;01mif\u001b[39;00m \u001b[38;5;28mself\u001b[39m\u001b[38;5;241m.\u001b[39m_state \u001b[38;5;129;01min\u001b[39;00m [CANCELLED, CANCELLED_AND_NOTIFIED]:\n",
      "File \u001b[0;32m/usr/lib/python3.11/concurrent/futures/_base.py:401\u001b[0m, in \u001b[0;36mFuture.__get_result\u001b[0;34m(self)\u001b[0m\n\u001b[1;32m    399\u001b[0m \u001b[38;5;28;01mif\u001b[39;00m \u001b[38;5;28mself\u001b[39m\u001b[38;5;241m.\u001b[39m_exception:\n\u001b[1;32m    400\u001b[0m     \u001b[38;5;28;01mtry\u001b[39;00m:\n\u001b[0;32m--> 401\u001b[0m         \u001b[38;5;28;01mraise\u001b[39;00m \u001b[38;5;28mself\u001b[39m\u001b[38;5;241m.\u001b[39m_exception\n\u001b[1;32m    402\u001b[0m     \u001b[38;5;28;01mfinally\u001b[39;00m:\n\u001b[1;32m    403\u001b[0m         \u001b[38;5;66;03m# Break a reference cycle with the exception in self._exception\u001b[39;00m\n\u001b[1;32m    404\u001b[0m         \u001b[38;5;28mself\u001b[39m \u001b[38;5;241m=\u001b[39m \u001b[38;5;28;01mNone\u001b[39;00m\n",
      "File \u001b[0;32m/usr/lib/python3.11/concurrent/futures/thread.py:58\u001b[0m, in \u001b[0;36m_WorkItem.run\u001b[0;34m(self)\u001b[0m\n\u001b[1;32m     55\u001b[0m     \u001b[38;5;28;01mreturn\u001b[39;00m\n\u001b[1;32m     57\u001b[0m \u001b[38;5;28;01mtry\u001b[39;00m:\n\u001b[0;32m---> 58\u001b[0m     result \u001b[38;5;241m=\u001b[39m \u001b[38;5;28;43mself\u001b[39;49m\u001b[38;5;241;43m.\u001b[39;49m\u001b[43mfn\u001b[49m\u001b[43m(\u001b[49m\u001b[38;5;241;43m*\u001b[39;49m\u001b[38;5;28;43mself\u001b[39;49m\u001b[38;5;241;43m.\u001b[39;49m\u001b[43margs\u001b[49m\u001b[43m,\u001b[49m\u001b[43m \u001b[49m\u001b[38;5;241;43m*\u001b[39;49m\u001b[38;5;241;43m*\u001b[39;49m\u001b[38;5;28;43mself\u001b[39;49m\u001b[38;5;241;43m.\u001b[39;49m\u001b[43mkwargs\u001b[49m\u001b[43m)\u001b[49m\n\u001b[1;32m     59\u001b[0m \u001b[38;5;28;01mexcept\u001b[39;00m \u001b[38;5;167;01mBaseException\u001b[39;00m \u001b[38;5;28;01mas\u001b[39;00m exc:\n\u001b[1;32m     60\u001b[0m     \u001b[38;5;28mself\u001b[39m\u001b[38;5;241m.\u001b[39mfuture\u001b[38;5;241m.\u001b[39mset_exception(exc)\n",
      "File \u001b[0;32m~/.venv/lib/python3.11/site-packages/huggingface_hub/_snapshot_download.py:267\u001b[0m, in \u001b[0;36msnapshot_download.<locals>._inner_hf_hub_download\u001b[0;34m(repo_file)\u001b[0m\n\u001b[1;32m    266\u001b[0m \u001b[38;5;28;01mdef\u001b[39;00m \u001b[38;5;21m_inner_hf_hub_download\u001b[39m(repo_file: \u001b[38;5;28mstr\u001b[39m):\n\u001b[0;32m--> 267\u001b[0m     \u001b[38;5;28;01mreturn\u001b[39;00m \u001b[43mhf_hub_download\u001b[49m\u001b[43m(\u001b[49m\n\u001b[1;32m    268\u001b[0m \u001b[43m        \u001b[49m\u001b[43mrepo_id\u001b[49m\u001b[43m,\u001b[49m\n\u001b[1;32m    269\u001b[0m \u001b[43m        \u001b[49m\u001b[43mfilename\u001b[49m\u001b[38;5;241;43m=\u001b[39;49m\u001b[43mrepo_file\u001b[49m\u001b[43m,\u001b[49m\n\u001b[1;32m    270\u001b[0m \u001b[43m        \u001b[49m\u001b[43mrepo_type\u001b[49m\u001b[38;5;241;43m=\u001b[39;49m\u001b[43mrepo_type\u001b[49m\u001b[43m,\u001b[49m\n\u001b[1;32m    271\u001b[0m \u001b[43m        \u001b[49m\u001b[43mrevision\u001b[49m\u001b[38;5;241;43m=\u001b[39;49m\u001b[43mcommit_hash\u001b[49m\u001b[43m,\u001b[49m\n\u001b[1;32m    272\u001b[0m \u001b[43m        \u001b[49m\u001b[43mendpoint\u001b[49m\u001b[38;5;241;43m=\u001b[39;49m\u001b[43mendpoint\u001b[49m\u001b[43m,\u001b[49m\n\u001b[1;32m    273\u001b[0m \u001b[43m        \u001b[49m\u001b[43mcache_dir\u001b[49m\u001b[38;5;241;43m=\u001b[39;49m\u001b[43mcache_dir\u001b[49m\u001b[43m,\u001b[49m\n\u001b[1;32m    274\u001b[0m \u001b[43m        \u001b[49m\u001b[43mlocal_dir\u001b[49m\u001b[38;5;241;43m=\u001b[39;49m\u001b[43mlocal_dir\u001b[49m\u001b[43m,\u001b[49m\n\u001b[1;32m    275\u001b[0m \u001b[43m        \u001b[49m\u001b[43mlocal_dir_use_symlinks\u001b[49m\u001b[38;5;241;43m=\u001b[39;49m\u001b[43mlocal_dir_use_symlinks\u001b[49m\u001b[43m,\u001b[49m\n\u001b[1;32m    276\u001b[0m \u001b[43m        \u001b[49m\u001b[43mlibrary_name\u001b[49m\u001b[38;5;241;43m=\u001b[39;49m\u001b[43mlibrary_name\u001b[49m\u001b[43m,\u001b[49m\n\u001b[1;32m    277\u001b[0m \u001b[43m        \u001b[49m\u001b[43mlibrary_version\u001b[49m\u001b[38;5;241;43m=\u001b[39;49m\u001b[43mlibrary_version\u001b[49m\u001b[43m,\u001b[49m\n\u001b[1;32m    278\u001b[0m \u001b[43m        \u001b[49m\u001b[43muser_agent\u001b[49m\u001b[38;5;241;43m=\u001b[39;49m\u001b[43muser_agent\u001b[49m\u001b[43m,\u001b[49m\n\u001b[1;32m    279\u001b[0m \u001b[43m        \u001b[49m\u001b[43mproxies\u001b[49m\u001b[38;5;241;43m=\u001b[39;49m\u001b[43mproxies\u001b[49m\u001b[43m,\u001b[49m\n\u001b[1;32m    280\u001b[0m \u001b[43m        \u001b[49m\u001b[43metag_timeout\u001b[49m\u001b[38;5;241;43m=\u001b[39;49m\u001b[43metag_timeout\u001b[49m\u001b[43m,\u001b[49m\n\u001b[1;32m    281\u001b[0m \u001b[43m        \u001b[49m\u001b[43mresume_download\u001b[49m\u001b[38;5;241;43m=\u001b[39;49m\u001b[43mresume_download\u001b[49m\u001b[43m,\u001b[49m\n\u001b[1;32m    282\u001b[0m \u001b[43m        \u001b[49m\u001b[43mforce_download\u001b[49m\u001b[38;5;241;43m=\u001b[39;49m\u001b[43mforce_download\u001b[49m\u001b[43m,\u001b[49m\n\u001b[1;32m    283\u001b[0m \u001b[43m        \u001b[49m\u001b[43mtoken\u001b[49m\u001b[38;5;241;43m=\u001b[39;49m\u001b[43mtoken\u001b[49m\u001b[43m,\u001b[49m\n\u001b[1;32m    284\u001b[0m \u001b[43m        \u001b[49m\u001b[43mheaders\u001b[49m\u001b[38;5;241;43m=\u001b[39;49m\u001b[43mheaders\u001b[49m\u001b[43m,\u001b[49m\n\u001b[1;32m    285\u001b[0m \u001b[43m    \u001b[49m\u001b[43m)\u001b[49m\n",
      "File \u001b[0;32m~/.venv/lib/python3.11/site-packages/huggingface_hub/utils/_deprecation.py:101\u001b[0m, in \u001b[0;36m_deprecate_arguments.<locals>._inner_deprecate_positional_args.<locals>.inner_f\u001b[0;34m(*args, **kwargs)\u001b[0m\n\u001b[1;32m     99\u001b[0m         message \u001b[38;5;241m+\u001b[39m\u001b[38;5;241m=\u001b[39m \u001b[38;5;124m\"\u001b[39m\u001b[38;5;130;01m\\n\u001b[39;00m\u001b[38;5;130;01m\\n\u001b[39;00m\u001b[38;5;124m\"\u001b[39m \u001b[38;5;241m+\u001b[39m custom_message\n\u001b[1;32m    100\u001b[0m     warnings\u001b[38;5;241m.\u001b[39mwarn(message, \u001b[38;5;167;01mFutureWarning\u001b[39;00m)\n\u001b[0;32m--> 101\u001b[0m \u001b[38;5;28;01mreturn\u001b[39;00m \u001b[43mf\u001b[49m\u001b[43m(\u001b[49m\u001b[38;5;241;43m*\u001b[39;49m\u001b[43margs\u001b[49m\u001b[43m,\u001b[49m\u001b[43m \u001b[49m\u001b[38;5;241;43m*\u001b[39;49m\u001b[38;5;241;43m*\u001b[39;49m\u001b[43mkwargs\u001b[49m\u001b[43m)\u001b[49m\n",
      "File \u001b[0;32m~/.venv/lib/python3.11/site-packages/huggingface_hub/utils/_validators.py:114\u001b[0m, in \u001b[0;36mvalidate_hf_hub_args.<locals>._inner_fn\u001b[0;34m(*args, **kwargs)\u001b[0m\n\u001b[1;32m    111\u001b[0m \u001b[38;5;28;01mif\u001b[39;00m check_use_auth_token:\n\u001b[1;32m    112\u001b[0m     kwargs \u001b[38;5;241m=\u001b[39m smoothly_deprecate_use_auth_token(fn_name\u001b[38;5;241m=\u001b[39mfn\u001b[38;5;241m.\u001b[39m\u001b[38;5;18m__name__\u001b[39m, has_token\u001b[38;5;241m=\u001b[39mhas_token, kwargs\u001b[38;5;241m=\u001b[39mkwargs)\n\u001b[0;32m--> 114\u001b[0m \u001b[38;5;28;01mreturn\u001b[39;00m \u001b[43mfn\u001b[49m\u001b[43m(\u001b[49m\u001b[38;5;241;43m*\u001b[39;49m\u001b[43margs\u001b[49m\u001b[43m,\u001b[49m\u001b[43m \u001b[49m\u001b[38;5;241;43m*\u001b[39;49m\u001b[38;5;241;43m*\u001b[39;49m\u001b[43mkwargs\u001b[49m\u001b[43m)\u001b[49m\n",
      "File \u001b[0;32m~/.venv/lib/python3.11/site-packages/huggingface_hub/file_download.py:1212\u001b[0m, in \u001b[0;36mhf_hub_download\u001b[0;34m(repo_id, filename, subfolder, repo_type, revision, library_name, library_version, cache_dir, local_dir, user_agent, force_download, proxies, etag_timeout, token, local_files_only, headers, endpoint, legacy_cache_layout, resume_download, force_filename, local_dir_use_symlinks)\u001b[0m\n\u001b[1;32m   1203\u001b[0m     \u001b[38;5;28;01mif\u001b[39;00m local_dir_use_symlinks \u001b[38;5;241m!=\u001b[39m \u001b[38;5;124m\"\u001b[39m\u001b[38;5;124mauto\u001b[39m\u001b[38;5;124m\"\u001b[39m:\n\u001b[1;32m   1204\u001b[0m         warnings\u001b[38;5;241m.\u001b[39mwarn(\n\u001b[1;32m   1205\u001b[0m             \u001b[38;5;124m\"\u001b[39m\u001b[38;5;124m`local_dir_use_symlinks` parameter is deprecated and will be ignored. \u001b[39m\u001b[38;5;124m\"\u001b[39m\n\u001b[1;32m   1206\u001b[0m             \u001b[38;5;124m\"\u001b[39m\u001b[38;5;124mThe process to download files to a local folder has been updated and do \u001b[39m\u001b[38;5;124m\"\u001b[39m\n\u001b[0;32m   (...)\u001b[0m\n\u001b[1;32m   1209\u001b[0m             \u001b[38;5;124m\"\u001b[39m\u001b[38;5;124mFor more details, check out https://huggingface.co/docs/huggingface_hub/main/en/guides/download#download-files-to-local-folder.\u001b[39m\u001b[38;5;124m\"\u001b[39m\n\u001b[1;32m   1210\u001b[0m         )\n\u001b[0;32m-> 1212\u001b[0m     \u001b[38;5;28;01mreturn\u001b[39;00m \u001b[43m_hf_hub_download_to_local_dir\u001b[49m\u001b[43m(\u001b[49m\n\u001b[1;32m   1213\u001b[0m \u001b[43m        \u001b[49m\u001b[38;5;66;43;03m# Destination\u001b[39;49;00m\n\u001b[1;32m   1214\u001b[0m \u001b[43m        \u001b[49m\u001b[43mlocal_dir\u001b[49m\u001b[38;5;241;43m=\u001b[39;49m\u001b[43mlocal_dir\u001b[49m\u001b[43m,\u001b[49m\n\u001b[1;32m   1215\u001b[0m \u001b[43m        \u001b[49m\u001b[38;5;66;43;03m# File info\u001b[39;49;00m\n\u001b[1;32m   1216\u001b[0m \u001b[43m        \u001b[49m\u001b[43mrepo_id\u001b[49m\u001b[38;5;241;43m=\u001b[39;49m\u001b[43mrepo_id\u001b[49m\u001b[43m,\u001b[49m\n\u001b[1;32m   1217\u001b[0m \u001b[43m        \u001b[49m\u001b[43mrepo_type\u001b[49m\u001b[38;5;241;43m=\u001b[39;49m\u001b[43mrepo_type\u001b[49m\u001b[43m,\u001b[49m\n\u001b[1;32m   1218\u001b[0m \u001b[43m        \u001b[49m\u001b[43mfilename\u001b[49m\u001b[38;5;241;43m=\u001b[39;49m\u001b[43mfilename\u001b[49m\u001b[43m,\u001b[49m\n\u001b[1;32m   1219\u001b[0m \u001b[43m        \u001b[49m\u001b[43mrevision\u001b[49m\u001b[38;5;241;43m=\u001b[39;49m\u001b[43mrevision\u001b[49m\u001b[43m,\u001b[49m\n\u001b[1;32m   1220\u001b[0m \u001b[43m        \u001b[49m\u001b[38;5;66;43;03m# HTTP info\u001b[39;49;00m\n\u001b[1;32m   1221\u001b[0m \u001b[43m        \u001b[49m\u001b[43mendpoint\u001b[49m\u001b[38;5;241;43m=\u001b[39;49m\u001b[43mendpoint\u001b[49m\u001b[43m,\u001b[49m\n\u001b[1;32m   1222\u001b[0m \u001b[43m        \u001b[49m\u001b[43metag_timeout\u001b[49m\u001b[38;5;241;43m=\u001b[39;49m\u001b[43metag_timeout\u001b[49m\u001b[43m,\u001b[49m\n\u001b[1;32m   1223\u001b[0m \u001b[43m        \u001b[49m\u001b[43mheaders\u001b[49m\u001b[38;5;241;43m=\u001b[39;49m\u001b[43mheaders\u001b[49m\u001b[43m,\u001b[49m\n\u001b[1;32m   1224\u001b[0m \u001b[43m        \u001b[49m\u001b[43mproxies\u001b[49m\u001b[38;5;241;43m=\u001b[39;49m\u001b[43mproxies\u001b[49m\u001b[43m,\u001b[49m\n\u001b[1;32m   1225\u001b[0m \u001b[43m        \u001b[49m\u001b[43mtoken\u001b[49m\u001b[38;5;241;43m=\u001b[39;49m\u001b[43mtoken\u001b[49m\u001b[43m,\u001b[49m\n\u001b[1;32m   1226\u001b[0m \u001b[43m        \u001b[49m\u001b[38;5;66;43;03m# Additional options\u001b[39;49;00m\n\u001b[1;32m   1227\u001b[0m \u001b[43m        \u001b[49m\u001b[43mcache_dir\u001b[49m\u001b[38;5;241;43m=\u001b[39;49m\u001b[43mcache_dir\u001b[49m\u001b[43m,\u001b[49m\n\u001b[1;32m   1228\u001b[0m \u001b[43m        \u001b[49m\u001b[43mforce_download\u001b[49m\u001b[38;5;241;43m=\u001b[39;49m\u001b[43mforce_download\u001b[49m\u001b[43m,\u001b[49m\n\u001b[1;32m   1229\u001b[0m \u001b[43m        \u001b[49m\u001b[43mlocal_files_only\u001b[49m\u001b[38;5;241;43m=\u001b[39;49m\u001b[43mlocal_files_only\u001b[49m\u001b[43m,\u001b[49m\n\u001b[1;32m   1230\u001b[0m \u001b[43m    \u001b[49m\u001b[43m)\u001b[49m\n\u001b[1;32m   1231\u001b[0m \u001b[38;5;28;01melse\u001b[39;00m:\n\u001b[1;32m   1232\u001b[0m     \u001b[38;5;28;01mreturn\u001b[39;00m _hf_hub_download_to_cache_dir(\n\u001b[1;32m   1233\u001b[0m         \u001b[38;5;66;03m# Destination\u001b[39;00m\n\u001b[1;32m   1234\u001b[0m         cache_dir\u001b[38;5;241m=\u001b[39mcache_dir,\n\u001b[0;32m   (...)\u001b[0m\n\u001b[1;32m   1248\u001b[0m         force_download\u001b[38;5;241m=\u001b[39mforce_download,\n\u001b[1;32m   1249\u001b[0m     )\n",
      "File \u001b[0;32m~/.venv/lib/python3.11/site-packages/huggingface_hub/file_download.py:1508\u001b[0m, in \u001b[0;36m_hf_hub_download_to_local_dir\u001b[0;34m(local_dir, repo_id, repo_type, filename, revision, endpoint, etag_timeout, headers, proxies, token, cache_dir, force_download, local_files_only)\u001b[0m\n\u001b[1;32m   1506\u001b[0m \u001b[38;5;28;01mwith\u001b[39;00m WeakFileLock(paths\u001b[38;5;241m.\u001b[39mlock_path):\n\u001b[1;32m   1507\u001b[0m     paths\u001b[38;5;241m.\u001b[39mfile_path\u001b[38;5;241m.\u001b[39munlink(missing_ok\u001b[38;5;241m=\u001b[39m\u001b[38;5;28;01mTrue\u001b[39;00m)  \u001b[38;5;66;03m# delete outdated file first\u001b[39;00m\n\u001b[0;32m-> 1508\u001b[0m     \u001b[43m_download_to_tmp_and_move\u001b[49m\u001b[43m(\u001b[49m\n\u001b[1;32m   1509\u001b[0m \u001b[43m        \u001b[49m\u001b[43mincomplete_path\u001b[49m\u001b[38;5;241;43m=\u001b[39;49m\u001b[43mpaths\u001b[49m\u001b[38;5;241;43m.\u001b[39;49m\u001b[43mincomplete_path\u001b[49m\u001b[43m(\u001b[49m\u001b[43metag\u001b[49m\u001b[43m)\u001b[49m\u001b[43m,\u001b[49m\n\u001b[1;32m   1510\u001b[0m \u001b[43m        \u001b[49m\u001b[43mdestination_path\u001b[49m\u001b[38;5;241;43m=\u001b[39;49m\u001b[43mpaths\u001b[49m\u001b[38;5;241;43m.\u001b[39;49m\u001b[43mfile_path\u001b[49m\u001b[43m,\u001b[49m\n\u001b[1;32m   1511\u001b[0m \u001b[43m        \u001b[49m\u001b[43murl_to_download\u001b[49m\u001b[38;5;241;43m=\u001b[39;49m\u001b[43murl_to_download\u001b[49m\u001b[43m,\u001b[49m\n\u001b[1;32m   1512\u001b[0m \u001b[43m        \u001b[49m\u001b[43mproxies\u001b[49m\u001b[38;5;241;43m=\u001b[39;49m\u001b[43mproxies\u001b[49m\u001b[43m,\u001b[49m\n\u001b[1;32m   1513\u001b[0m \u001b[43m        \u001b[49m\u001b[43mheaders\u001b[49m\u001b[38;5;241;43m=\u001b[39;49m\u001b[43mheaders\u001b[49m\u001b[43m,\u001b[49m\n\u001b[1;32m   1514\u001b[0m \u001b[43m        \u001b[49m\u001b[43mexpected_size\u001b[49m\u001b[38;5;241;43m=\u001b[39;49m\u001b[43mexpected_size\u001b[49m\u001b[43m,\u001b[49m\n\u001b[1;32m   1515\u001b[0m \u001b[43m        \u001b[49m\u001b[43mfilename\u001b[49m\u001b[38;5;241;43m=\u001b[39;49m\u001b[43mfilename\u001b[49m\u001b[43m,\u001b[49m\n\u001b[1;32m   1516\u001b[0m \u001b[43m        \u001b[49m\u001b[43mforce_download\u001b[49m\u001b[38;5;241;43m=\u001b[39;49m\u001b[43mforce_download\u001b[49m\u001b[43m,\u001b[49m\n\u001b[1;32m   1517\u001b[0m \u001b[43m    \u001b[49m\u001b[43m)\u001b[49m\n\u001b[1;32m   1519\u001b[0m write_download_metadata(local_dir\u001b[38;5;241m=\u001b[39mlocal_dir, filename\u001b[38;5;241m=\u001b[39mfilename, commit_hash\u001b[38;5;241m=\u001b[39mcommit_hash, etag\u001b[38;5;241m=\u001b[39metag)\n\u001b[1;32m   1520\u001b[0m \u001b[38;5;28;01mreturn\u001b[39;00m \u001b[38;5;28mstr\u001b[39m(paths\u001b[38;5;241m.\u001b[39mfile_path)\n",
      "File \u001b[0;32m~/.venv/lib/python3.11/site-packages/huggingface_hub/file_download.py:1925\u001b[0m, in \u001b[0;36m_download_to_tmp_and_move\u001b[0;34m(incomplete_path, destination_path, url_to_download, proxies, headers, expected_size, filename, force_download)\u001b[0m\n\u001b[1;32m   1915\u001b[0m     http_get(\n\u001b[1;32m   1916\u001b[0m         url_to_download,\n\u001b[1;32m   1917\u001b[0m         f,\n\u001b[0;32m   (...)\u001b[0m\n\u001b[1;32m   1921\u001b[0m         expected_size\u001b[38;5;241m=\u001b[39mexpected_size,\n\u001b[1;32m   1922\u001b[0m     )\n\u001b[1;32m   1924\u001b[0m logger\u001b[38;5;241m.\u001b[39minfo(\u001b[38;5;124mf\u001b[39m\u001b[38;5;124m\"\u001b[39m\u001b[38;5;124mDownload complete. Moving file to \u001b[39m\u001b[38;5;132;01m{\u001b[39;00mdestination_path\u001b[38;5;132;01m}\u001b[39;00m\u001b[38;5;124m\"\u001b[39m)\n\u001b[0;32m-> 1925\u001b[0m \u001b[43m_chmod_and_move\u001b[49m\u001b[43m(\u001b[49m\u001b[43mincomplete_path\u001b[49m\u001b[43m,\u001b[49m\u001b[43m \u001b[49m\u001b[43mdestination_path\u001b[49m\u001b[43m)\u001b[49m\n",
      "File \u001b[0;32m~/.venv/lib/python3.11/site-packages/huggingface_hub/file_download.py:1967\u001b[0m, in \u001b[0;36m_chmod_and_move\u001b[0;34m(src, dst)\u001b[0m\n\u001b[1;32m   1962\u001b[0m     \u001b[38;5;28;01mexcept\u001b[39;00m \u001b[38;5;167;01mOSError\u001b[39;00m:\n\u001b[1;32m   1963\u001b[0m         \u001b[38;5;66;03m# fails if `tmp_file.touch()` failed => do nothing\u001b[39;00m\n\u001b[1;32m   1964\u001b[0m         \u001b[38;5;66;03m# See https://github.com/huggingface/huggingface_hub/issues/2359\u001b[39;00m\n\u001b[1;32m   1965\u001b[0m         \u001b[38;5;28;01mpass\u001b[39;00m\n\u001b[0;32m-> 1967\u001b[0m \u001b[43mshutil\u001b[49m\u001b[38;5;241;43m.\u001b[39;49m\u001b[43mmove\u001b[49m\u001b[43m(\u001b[49m\u001b[38;5;28;43mstr\u001b[39;49m\u001b[43m(\u001b[49m\u001b[43msrc\u001b[49m\u001b[43m)\u001b[49m\u001b[43m,\u001b[49m\u001b[43m \u001b[49m\u001b[38;5;28;43mstr\u001b[39;49m\u001b[43m(\u001b[49m\u001b[43mdst\u001b[49m\u001b[43m)\u001b[49m\u001b[43m,\u001b[49m\u001b[43m \u001b[49m\u001b[43mcopy_function\u001b[49m\u001b[38;5;241;43m=\u001b[39;49m\u001b[43m_copy_no_matter_what\u001b[49m\u001b[43m)\u001b[49m\n",
      "File \u001b[0;32m/usr/lib/python3.11/shutil.py:845\u001b[0m, in \u001b[0;36mmove\u001b[0;34m(src, dst, copy_function)\u001b[0m\n\u001b[1;32m    843\u001b[0m         rmtree(src)\n\u001b[1;32m    844\u001b[0m     \u001b[38;5;28;01melse\u001b[39;00m:\n\u001b[0;32m--> 845\u001b[0m         \u001b[43mcopy_function\u001b[49m\u001b[43m(\u001b[49m\u001b[43msrc\u001b[49m\u001b[43m,\u001b[49m\u001b[43m \u001b[49m\u001b[43mreal_dst\u001b[49m\u001b[43m)\u001b[49m\n\u001b[1;32m    846\u001b[0m         os\u001b[38;5;241m.\u001b[39munlink(src)\n\u001b[1;32m    847\u001b[0m \u001b[38;5;28;01mreturn\u001b[39;00m real_dst\n",
      "File \u001b[0;32m~/.venv/lib/python3.11/site-packages/huggingface_hub/file_download.py:1981\u001b[0m, in \u001b[0;36m_copy_no_matter_what\u001b[0;34m(src, dst)\u001b[0m\n\u001b[1;32m   1978\u001b[0m     shutil\u001b[38;5;241m.\u001b[39mcopy2(src, dst)\n\u001b[1;32m   1979\u001b[0m \u001b[38;5;28;01mexcept\u001b[39;00m \u001b[38;5;167;01mOSError\u001b[39;00m:\n\u001b[1;32m   1980\u001b[0m     \u001b[38;5;66;03m# Copy only file content\u001b[39;00m\n\u001b[0;32m-> 1981\u001b[0m     \u001b[43mshutil\u001b[49m\u001b[38;5;241;43m.\u001b[39;49m\u001b[43mcopyfile\u001b[49m\u001b[43m(\u001b[49m\u001b[43msrc\u001b[49m\u001b[43m,\u001b[49m\u001b[43m \u001b[49m\u001b[43mdst\u001b[49m\u001b[43m)\u001b[49m\n",
      "File \u001b[0;32m/usr/lib/python3.11/shutil.py:258\u001b[0m, in \u001b[0;36mcopyfile\u001b[0;34m(src, dst, follow_symlinks)\u001b[0m\n\u001b[1;32m    256\u001b[0m \u001b[38;5;28;01mwith\u001b[39;00m \u001b[38;5;28mopen\u001b[39m(src, \u001b[38;5;124m'\u001b[39m\u001b[38;5;124mrb\u001b[39m\u001b[38;5;124m'\u001b[39m) \u001b[38;5;28;01mas\u001b[39;00m fsrc:\n\u001b[1;32m    257\u001b[0m     \u001b[38;5;28;01mtry\u001b[39;00m:\n\u001b[0;32m--> 258\u001b[0m         \u001b[38;5;28;01mwith\u001b[39;00m \u001b[38;5;28mopen\u001b[39m(dst, \u001b[38;5;124m'\u001b[39m\u001b[38;5;124mwb\u001b[39m\u001b[38;5;124m'\u001b[39m) \u001b[38;5;28;01mas\u001b[39;00m fdst:\n\u001b[1;32m    259\u001b[0m             \u001b[38;5;66;03m# macOS\u001b[39;00m\n\u001b[1;32m    260\u001b[0m             \u001b[38;5;28;01mif\u001b[39;00m _HAS_FCOPYFILE:\n\u001b[1;32m    261\u001b[0m                 \u001b[38;5;28;01mtry\u001b[39;00m:\n",
      "\u001b[0;31mFileNotFoundError\u001b[0m: [Errno 2] No such file or directory: 'VC-20dB-IMJ_Woman-01-27-58.20/runs/Oct28_07-08-06_whisper-finetune.asia-northeast3-a.c.sabina-404403.internal/events.out.tfevents.1730099289.whisper-finetune.asia-northeast3-a.c.sabina-404403.internal.13563.0'"
     ]
    }
   ],
   "source": [
    "from huggingface_hub import snapshot_download\n",
    "\n",
    "# Download the repository\n",
    "snapshot_download(\n",
    "    repo_id=\"ghost613/VC-20dB-IMJ_Woman-01-27-58.20\",\n",
    "    repo_type=\"model\", \n",
    "    revision = '348fd0412ddac4e60d56dda36458e134d35f8d4d',\n",
    "    local_dir=\"VC-20dB-IMJ_Woman-01-27-58.20\")"
   ]
  },
  {
   "cell_type": "markdown",
   "metadata": {},
   "source": [
    "# Inference"
   ]
  },
  {
   "cell_type": "code",
   "execution_count": 11,
   "metadata": {},
   "outputs": [
    {
     "name": "stderr",
     "output_type": "stream",
     "text": [
      "Special tokens have been added in the vocabulary, make sure the associated word embeddings are fine-tuned or trained.\n",
      "Special tokens have been added in the vocabulary, make sure the associated word embeddings are fine-tuned or trained.\n",
      "Hardware accelerator e.g. GPU is available in the environment, but no `device` argument is passed to the `Pipeline` object. Model will be on CPU.\n"
     ]
    }
   ],
   "source": [
    "from transformers import pipeline\n",
    "transcriber = pipeline(model=\"VC-01-22-4.30-turbo\", task=\"automatic-speech-recognition\")\n",
    "\n",
    "\n",
    "audio_path = \"test.wav\"\n",
    "gt_text = \"난 불효자인가. 불효자인가?\"\n",
    "\n"
   ]
  },
  {
   "cell_type": "code",
   "execution_count": 12,
   "metadata": {},
   "outputs": [
    {
     "name": "stderr",
     "output_type": "stream",
     "text": [
      "/home/ali/.venv/lib/python3.11/site-packages/transformers/models/whisper/generation_whisper.py:480: FutureWarning: The input name `inputs` is deprecated. Please make sure to use `input_features` instead.\n",
      "  warnings.warn(\n"
     ]
    },
    {
     "name": "stdout",
     "output_type": "stream",
     "text": [
      "Ground Truth: 난 불효자인가. 불효자인가?\n",
      "Transcription: {'text': '난 부류자인가 부류자인가'}\n"
     ]
    },
    {
     "name": "stderr",
     "output_type": "stream",
     "text": [
      "/home/ali/.venv/lib/python3.11/site-packages/transformers/generation/utils.py:1249: UserWarning: Using the model-agnostic default `max_length` (=20) to control the generation length. We recommend setting `max_new_tokens` to control the maximum length of the generation.\n",
      "  warnings.warn(\n"
     ]
    }
   ],
   "source": [
    "transcription = transcriber(audio_path)\n",
    "print(f\"Ground Truth: {gt_text}\")\n",
    "print(f\"Transcription: {transcription}\")"
   ]
  },
  {
   "cell_type": "code",
   "execution_count": 1,
   "metadata": {},
   "outputs": [
    {
     "name": "stderr",
     "output_type": "stream",
     "text": [
      "/home/ali/.venv/lib/python3.11/site-packages/tqdm/auto.py:21: TqdmWarning: IProgress not found. Please update jupyter and ipywidgets. See https://ipywidgets.readthedocs.io/en/stable/user_install.html\n",
      "  from .autonotebook import tqdm as notebook_tqdm\n"
     ]
    }
   ],
   "source": [
    "import os\n",
    "#os.environ[\"CUDA_VISIBLE_DEVICES\"] = \"2,3\"\n",
    "from faster_whisper import WhisperModel\n",
    "\n",
    "\n",
    "\n",
    "class STT:\n",
    "    def __init__(self, model_name, verbose=True):\n",
    "        self.model = WhisperModel(model_name)\n",
    "        self.verbose = verbose\n",
    "    \n",
    "    def transcribe(self, audio_path):\n",
    "        segments, info = self.model.transcribe(audio_path)\n",
    "        texts = [segment.text for segment in segments]\n",
    "        if self.verbose:\n",
    "            print(info)\n",
    "            for segment in segments:\n",
    "                print(\"[%.2fs -> %.2fs] %s\" % (segment.start, segment.end, segment.text))\n",
    "            \n",
    "        return \" \".join(texts)"
   ]
  },
  {
   "cell_type": "code",
   "execution_count": 2,
   "metadata": {},
   "outputs": [
    {
     "ename": "",
     "evalue": "",
     "output_type": "error",
     "traceback": [
      "\u001b[1;31mThe Kernel crashed while executing code in the current cell or a previous cell. \n",
      "\u001b[1;31mPlease review the code in the cell(s) to identify a possible cause of the failure. \n",
      "\u001b[1;31mClick <a href='https://aka.ms/vscodeJupyterKernelCrash'>here</a> for more info. \n",
      "\u001b[1;31mView Jupyter <a href='command:jupyter.viewOutput'>log</a> for further details."
     ]
    }
   ],
   "source": [
    "stt = STT(\"whisper-large-v3-turbo-faster-korean\")\n",
    "stt.transcribe(\"korean_example.wav\")"
   ]
  },
  {
   "cell_type": "code",
   "execution_count": 2,
   "metadata": {},
   "outputs": [
    {
     "ename": "",
     "evalue": "",
     "output_type": "error",
     "traceback": [
      "\u001b[1;31mThe Kernel crashed while executing code in the current cell or a previous cell. \n",
      "\u001b[1;31mPlease review the code in the cell(s) to identify a possible cause of the failure. \n",
      "\u001b[1;31mClick <a href='https://aka.ms/vscodeJupyterKernelCrash'>here</a> for more info. \n",
      "\u001b[1;31mView Jupyter <a href='command:jupyter.viewOutput'>log</a> for further details."
     ]
    }
   ],
   "source": [
    "stt = STT(\"whisper_large-feature-merged-quanted\")\n",
    "stt.transcribe(\"divided_audio/240812_1734_part192_a.wav\")"
   ]
  },
  {
   "cell_type": "markdown",
   "metadata": {},
   "source": []
  },
  {
   "cell_type": "code",
   "execution_count": 14,
   "metadata": {},
   "outputs": [
    {
     "name": "stdout",
     "output_type": "stream",
     "text": [
      "Copied: dataset/LMH_Man_40s/LMH_Man_40s_241005_4924_38.wav -> LMH_Man_40s/test\n",
      "Copied: dataset/LMH_Man_40s/LMH_Man_40s_241005_4346_26.wav -> LMH_Man_40s/test\n",
      "Copied: dataset/LMH_Man_40s/LMH_Man_40s_241006_5105_105.wav -> LMH_Man_40s/test\n",
      "Copied: dataset/LMH_Man_40s/LMH_Man_40s_241005_4924_168.wav -> LMH_Man_40s/test\n",
      "Copied: dataset/LMH_Man_40s/LMH_Man_40s_241006_5105_143.wav -> LMH_Man_40s/test\n",
      "Copied: dataset/LMH_Man_40s/LMH_Man_40s_241006_3416_32.wav -> LMH_Man_40s/test\n",
      "Copied: dataset/LMH_Man_40s/LMH_Man_40s_241005_4346_29.wav -> LMH_Man_40s/test\n",
      "Copied: dataset/LMH_Man_40s/LMH_Man_40s_241006_5105_89.wav -> LMH_Man_40s/test\n",
      "Copied: dataset/LMH_Man_40s/LMH_Man_40s_241006_5105_41.wav -> LMH_Man_40s/test\n",
      "Copied: dataset/LMH_Man_40s/LMH_Man_40s_241004_2244_8.wav -> LMH_Man_40s/test\n",
      "Copied: dataset/LMH_Man_40s/LMH_Man_40s_241006_5105_93.wav -> LMH_Man_40s/test\n",
      "Copied: dataset/LMH_Man_40s/LMH_Man_40s_241005_4924_104.wav -> LMH_Man_40s/test\n",
      "Copied: dataset/LMH_Man_40s/LMH_Man_40s_241006_0423_173.wav -> LMH_Man_40s/test\n",
      "Copied: dataset/LMH_Man_40s/LMH_Man_40s_241006_0423_24.wav -> LMH_Man_40s/test\n",
      "Copied: dataset/LMH_Man_40s/LMH_Man_40s_241005_4924_42.wav -> LMH_Man_40s/test\n",
      "Copied: dataset/LMH_Man_40s/LMH_Man_40s_241005_5050_45.wav -> LMH_Man_40s/test\n",
      "Copied: dataset/LMH_Man_40s/LMH_Man_40s_241006_5105_149.wav -> LMH_Man_40s/test\n",
      "Copied: dataset/LMH_Man_40s/LMH_Man_40s_241006_3416_36.wav -> LMH_Man_40s/test\n",
      "Copied: dataset/LMH_Man_40s/LMH_Man_40s_241006_0423_235.wav -> LMH_Man_40s/test\n",
      "Copied: dataset/LMH_Man_40s/LMH_Man_40s_241006_3416_50.wav -> LMH_Man_40s/test\n",
      "Copied: dataset/LMH_Man_40s/LMH_Man_40s_241005_4924_18.wav -> LMH_Man_40s/test\n",
      "Copied: dataset/LMH_Man_40s/LMH_Man_40s_241006_0423_146.wav -> LMH_Man_40s/test\n",
      "Copied: dataset/LMH_Man_40s/LMH_Man_40s_241004_2244_28.wav -> LMH_Man_40s/test\n",
      "Copied: dataset/LMH_Man_40s/LMH_Man_40s_241006_0423_186.wav -> LMH_Man_40s/test\n",
      "Copied: dataset/LMH_Man_40s/LMH_Man_40s_241006_0423_85.wav -> LMH_Man_40s/test\n",
      "Copied: dataset/LMH_Man_40s/LMH_Man_40s_241005_4924_58.wav -> LMH_Man_40s/test\n",
      "Copied: dataset/LMH_Man_40s/LMH_Man_40s_241005_4924_40.wav -> LMH_Man_40s/test\n",
      "Copied: dataset/LMH_Man_40s/LMH_Man_40s_241005_3906_7.wav -> LMH_Man_40s/test\n",
      "Copied: dataset/LMH_Man_40s/LMH_Man_40s_241004_2244_32.wav -> LMH_Man_40s/test\n",
      "Copied: dataset/LMH_Man_40s/LMH_Man_40s_241004_2244_34.wav -> LMH_Man_40s/test\n",
      "Copied: dataset/LMH_Man_40s/LMH_Man_40s_241005_5050_49.wav -> LMH_Man_40s/test\n",
      "Copied: dataset/LMH_Man_40s/LMH_Man_40s_241006_0423_175.wav -> LMH_Man_40s/test\n",
      "Copied: dataset/LMH_Man_40s/LMH_Man_40s_241005_3906_1.wav -> LMH_Man_40s/test\n",
      "Copied: dataset/LMH_Man_40s/LMH_Man_40s_241006_0423_130.wav -> LMH_Man_40s/test\n",
      "Copied: dataset/LMH_Man_40s/LMH_Man_40s_241006_5105_169.wav -> LMH_Man_40s/test\n",
      "Copied: dataset/LMH_Man_40s/LMH_Man_40s_241006_3416_10.wav -> LMH_Man_40s/test\n",
      "Copied: dataset/LMH_Man_40s/LMH_Man_40s_241005_3906_17.wav -> LMH_Man_40s/test\n",
      "Copied: dataset/LMH_Man_40s/LMH_Man_40s_241006_5105_15.wav -> LMH_Man_40s/test\n",
      "Copied: dataset/LMH_Man_40s/LMH_Man_40s_241005_4346_11.wav -> LMH_Man_40s/test\n",
      "Copied: dataset/LMH_Man_40s/LMH_Man_40s_241005_4924_46.wav -> LMH_Man_40s/test\n",
      "Copied: dataset/LMH_Man_40s/LMH_Man_40s_241005_4924_71.wav -> LMH_Man_40s/test\n",
      "Copied: dataset/LMH_Man_40s/LMH_Man_40s_241005_4924_100.wav -> LMH_Man_40s/test\n",
      "Copied: dataset/LMH_Man_40s/LMH_Man_40s_241006_5105_23.wav -> LMH_Man_40s/test\n",
      "Copied: dataset/LMH_Man_40s/LMH_Man_40s_241004_2244_26.wav -> LMH_Man_40s/test\n",
      "Copied: dataset/LMH_Man_40s/LMH_Man_40s_241005_3906_27.wav -> LMH_Man_40s/test\n",
      "Copied: dataset/LMH_Man_40s/LMH_Man_40s_241006_0423_223.wav -> LMH_Man_40s/test\n",
      "Copied: dataset/LMH_Man_40s/LMH_Man_40s_241006_5105_117.wav -> LMH_Man_40s/valid\n",
      "Copied: dataset/LMH_Man_40s/LMH_Man_40s_241005_4924_92.wav -> LMH_Man_40s/valid\n",
      "Copied: dataset/LMH_Man_40s/LMH_Man_40s_241006_3416_4.wav -> LMH_Man_40s/valid\n",
      "Copied: dataset/LMH_Man_40s/LMH_Man_40s_241005_4924_32.wav -> LMH_Man_40s/valid\n",
      "Copied: dataset/LMH_Man_40s/LMH_Man_40s_241005_4924_184.wav -> LMH_Man_40s/valid\n",
      "Copied: dataset/LMH_Man_40s/LMH_Man_40s_241005_4924_200.wav -> LMH_Man_40s/valid\n",
      "Copied: dataset/LMH_Man_40s/LMH_Man_40s_241005_4346_33.wav -> LMH_Man_40s/valid\n",
      "Copied: dataset/LMH_Man_40s/LMH_Man_40s_241005_4924_194.wav -> LMH_Man_40s/valid\n",
      "Copied: dataset/LMH_Man_40s/LMH_Man_40s_241006_0423_219.wav -> LMH_Man_40s/valid\n",
      "Copied: dataset/LMH_Man_40s/LMH_Man_40s_241006_0423_30.wav -> LMH_Man_40s/valid\n",
      "Copied: dataset/LMH_Man_40s/LMH_Man_40s_241006_5105_87.wav -> LMH_Man_40s/valid\n",
      "Copied: dataset/LMH_Man_40s/LMH_Man_40s_241006_5105_73.wav -> LMH_Man_40s/valid\n",
      "Copied: dataset/LMH_Man_40s/LMH_Man_40s_241005_3906_15.wav -> LMH_Man_40s/valid\n",
      "Copied: dataset/LMH_Man_40s/LMH_Man_40s_241006_5105_133.wav -> LMH_Man_40s/valid\n",
      "Copied: dataset/LMH_Man_40s/LMH_Man_40s_241006_5105_49.wav -> LMH_Man_40s/valid\n",
      "Copied: dataset/LMH_Man_40s/LMH_Man_40s_241005_4924_116.wav -> LMH_Man_40s/valid\n",
      "Copied: dataset/LMH_Man_40s/LMH_Man_40s_241005_4924_52.wav -> LMH_Man_40s/valid\n",
      "Copied: dataset/LMH_Man_40s/LMH_Man_40s_241006_0423_251.wav -> LMH_Man_40s/valid\n",
      "Copied: dataset/LMH_Man_40s/LMH_Man_40s_241004_2244_48.wav -> LMH_Man_40s/valid\n",
      "Copied: dataset/LMH_Man_40s/LMH_Man_40s_241005_1008_21.wav -> LMH_Man_40s/valid\n",
      "Copied: dataset/LMH_Man_40s/LMH_Man_40s_241006_3416_38.wav -> LMH_Man_40s/valid\n",
      "Copied: dataset/LMH_Man_40s/LMH_Man_40s_241005_4924_10.wav -> LMH_Man_40s/valid\n",
      "Copied: dataset/LMH_Man_40s/LMH_Man_40s_241006_0423_161.wav -> LMH_Man_40s/valid\n",
      "Copied: dataset/LMH_Man_40s/LMH_Man_40s_241005_4924_192.wav -> LMH_Man_40s/valid\n",
      "Copied: dataset/LMH_Man_40s/LMH_Man_40s_241006_0423_202.wav -> LMH_Man_40s/valid\n",
      "Copied: dataset/LMH_Man_40s/LMH_Man_40s_241006_0423_211.wav -> LMH_Man_40s/valid\n",
      "Copied: dataset/LMH_Man_40s/LMH_Man_40s_241005_4924_120.wav -> LMH_Man_40s/valid\n",
      "Copied: dataset/LMH_Man_40s/LMH_Man_40s_241006_0423_135.wav -> LMH_Man_40s/valid\n",
      "Copied: dataset/LMH_Man_40s/LMH_Man_40s_241005_3052_7.wav -> LMH_Man_40s/valid\n",
      "Copied: dataset/LMH_Man_40s/LMH_Man_40s_241005_5050_5.wav -> LMH_Man_40s/valid\n",
      "Copied: dataset/LMH_Man_40s/LMH_Man_40s_241005_3906_39.wav -> LMH_Man_40s/valid\n",
      "Copied: dataset/LMH_Man_40s/LMH_Man_40s_241006_0423_121.wav -> LMH_Man_40s/valid\n",
      "Copied: dataset/LMH_Man_40s/LMH_Man_40s_241006_0423_37.wav -> LMH_Man_40s/valid\n",
      "Copied: dataset/LMH_Man_40s/LMH_Man_40s_241006_5105_7.wav -> LMH_Man_40s/valid\n",
      "Copied: dataset/LMH_Man_40s/LMH_Man_40s_241004_2244_46.wav -> LMH_Man_40s/valid\n",
      "Copied: dataset/LMH_Man_40s/LMH_Man_40s_241005_4924_90.wav -> LMH_Man_40s/valid\n",
      "Copied: dataset/LMH_Man_40s/LMH_Man_40s_241006_0423_188.wav -> LMH_Man_40s/valid\n",
      "Copied: dataset/LMH_Man_40s/LMH_Man_40s_241005_4924_172.wav -> LMH_Man_40s/valid\n",
      "Copied: dataset/LMH_Man_40s/LMH_Man_40s_241005_4924_188.wav -> LMH_Man_40s/valid\n",
      "Copied: dataset/LMH_Man_40s/LMH_Man_40s_241005_3906_11.wav -> LMH_Man_40s/valid\n",
      "Copied: dataset/LMH_Man_40s/LMH_Man_40s_241005_5050_7.wav -> LMH_Man_40s/valid\n",
      "Copied: dataset/LMH_Man_40s/LMH_Man_40s_241006_5105_137.wav -> LMH_Man_40s/valid\n",
      "Copied: dataset/LMH_Man_40s/LMH_Man_40s_241006_5105_155.wav -> LMH_Man_40s/valid\n",
      "Copied: dataset/LMH_Man_40s/LMH_Man_40s_241005_4924_164.wav -> LMH_Man_40s/valid\n",
      "Copied: dataset/LMH_Man_40s/LMH_Man_40s_241006_5105_45.wav -> LMH_Man_40s/valid\n"
     ]
    }
   ],
   "source": [
    "import json\n",
    "import shutil\n",
    "import os\n",
    "\n",
    "def merge_predictions(json_file, predictions_file, output_file):\n",
    "    # Step 1: Read the JSON data\n",
    "    with open(json_file, 'r', encoding='utf-8') as f:\n",
    "        data = json.load(f)\n",
    "\n",
    "    # Step 2: Read predictions from the predictions.txt file\n",
    "    with open(predictions_file, 'r', encoding='utf-8') as f:\n",
    "        predictions = f.readlines()\n",
    "\n",
    "    # Ensure each prediction is stripped of trailing whitespace/newlines\n",
    "    predictions = [pred.strip() for pred in predictions]\n",
    "\n",
    "    # Step 3: Add predictions to the JSON data\n",
    "    for i, entry in enumerate(data):\n",
    "        if i < len(predictions):\n",
    "            entry[\"prediction\"] = predictions[i]\n",
    "        else:\n",
    "            entry[\"prediction\"] = \"\"  # Handle fewer predictions case\n",
    "        \n",
    "    # Step 4: Write the updated data to the output file\n",
    "    with open(output_file, 'w', encoding='utf-8') as f:\n",
    "        json.dump(data, f, ensure_ascii=False, indent=4)\n",
    "\n",
    "def copy_files_from_json(json_file, target_directory):\n",
    "    # Ensure the target directory exists\n",
    "    os.makedirs(target_directory, exist_ok=True)\n",
    "\n",
    "    # Read the JSON data\n",
    "    with open(json_file, 'r', encoding='utf-8') as f:\n",
    "        data = json.load(f)\n",
    "\n",
    "    # Copy each file to the target directory\n",
    "    for entry in data:\n",
    "        audio_path = entry[\"audio\"][\"path\"]\n",
    "        if os.path.exists(audio_path):\n",
    "            try:\n",
    "                shutil.copy(audio_path, target_directory)\n",
    "                print(f\"Copied: {audio_path} -> {target_directory}\")\n",
    "            except Exception as e:\n",
    "                print(f\"Error copying {audio_path}: {e}\")\n",
    "        else:\n",
    "            print(f\"File not found: {audio_path}\")\n",
    "\n",
    "# Example usage\n",
    "filenames = ['test', 'valid']\n",
    "for filename in filenames:\n",
    "    speaker = 'LMH_Man_40s'\n",
    "    pred = f'predictions_VC-20dB-LMH_Man_40s-00-13-4.37_{filename}.txt'\n",
    "    copy_files_from_json(f'/home/ali/dataset/{speaker}/{filename}.json', f'{speaker}/{filename}')\n",
    "    merge_predictions(f'/home/ali/dataset/{speaker}/{filename}.json', f'/home/ali/stuff/{pred}', f'{speaker}/{filename}/{filename}.json')"
   ]
  },
  {
   "cell_type": "code",
   "execution_count": null,
   "metadata": {},
   "outputs": [],
   "source": []
  }
 ],
 "metadata": {
  "kernelspec": {
   "display_name": ".venv",
   "language": "python",
   "name": "python3"
  },
  "language_info": {
   "codemirror_mode": {
    "name": "ipython",
    "version": 3
   },
   "file_extension": ".py",
   "mimetype": "text/x-python",
   "name": "python",
   "nbconvert_exporter": "python",
   "pygments_lexer": "ipython3",
   "version": "3.11.2"
  }
 },
 "nbformat": 4,
 "nbformat_minor": 2
}
