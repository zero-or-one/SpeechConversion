{
 "cells": [
  {
   "cell_type": "code",
   "execution_count": 1,
   "metadata": {},
   "outputs": [],
   "source": [
    "from transformers import WhisperFeatureExtractor, WhisperTokenizer, WhisperForConditionalGeneration\n",
    "import soundfile as sf"
   ]
  },
  {
   "cell_type": "code",
   "execution_count": 2,
   "metadata": {},
   "outputs": [
    {
     "name": "stderr",
     "output_type": "stream",
     "text": [
      "Special tokens have been added in the vocabulary, make sure the associated word embeddings are fine-tuned or trained.\n"
     ]
    }
   ],
   "source": [
    "\n",
    "model_name = 'openai/whisper-large-v3-turbo'\n",
    "feature_extractor = WhisperFeatureExtractor.from_pretrained(model_name)\n",
    "tokenizer = WhisperTokenizer.from_pretrained(model_name)\n",
    "model = WhisperForConditionalGeneration.from_pretrained(model_name)"
   ]
  },
  {
   "cell_type": "code",
   "execution_count": 3,
   "metadata": {},
   "outputs": [
    {
     "name": "stderr",
     "output_type": "stream",
     "text": [
      "It is strongly recommended to pass the `sampling_rate` argument to this function. Failing to do so can result in silent errors that might be hard to debug.\n"
     ]
    },
    {
     "name": "stdout",
     "output_type": "stream",
     "text": [
      "(119845,)\n"
     ]
    },
    {
     "name": "stderr",
     "output_type": "stream",
     "text": [
      "2024-10-17 17:10:52.410381: I tensorflow/core/platform/cpu_feature_guard.cc:182] This TensorFlow binary is optimized to use available CPU instructions in performance-critical operations.\n",
      "To enable the following instructions: AVX2 AVX512F FMA, in other operations, rebuild TensorFlow with the appropriate compiler flags.\n",
      "2024-10-17 17:10:53.973984: W tensorflow/compiler/tf2tensorrt/utils/py_utils.cc:38] TF-TRT Warning: Could not find TensorRT\n",
      "Due to a bug fix in https://github.com/huggingface/transformers/pull/28687 transcription using a multilingual Whisper will default to language detection followed by transcription instead of translation to English.This might be a breaking change for your use case. If you want to instead always translate your audio to English, make sure to pass `language='en'`.\n"
     ]
    },
    {
     "name": "stdout",
     "output_type": "stream",
     "text": [
      "input_features torch.Size([1, 128, 3000])\n",
      "convolution torch.Size([1, 1280, 1500])\n",
      "encoder_states torch.Size([1, 1500, 1280])\n",
      "decoder hidden_states torch.Size([1, 1, 1280])\n",
      "decoder hidden_states torch.Size([1, 1, 1280])\n",
      "decoder hidden_states torch.Size([1, 1, 1280])\n",
      "decoder hidden_states torch.Size([1, 1, 1280])\n"
     ]
    },
    {
     "name": "stderr",
     "output_type": "stream",
     "text": [
      "The attention mask is not set and cannot be inferred from input because pad token is same as eos token.As a consequence, you may observe unexpected behavior. Please pass your input's `attention_mask` to obtain reliable results.\n"
     ]
    },
    {
     "name": "stdout",
     "output_type": "stream",
     "text": [
      "decoder_states torch.Size([1, 1, 1280])\n",
      "outputs len 3\n",
      "outputs[0] shape torch.Size([1, 1, 1280])\n",
      "lm_logits torch.Size([1, 1, 51866])\n",
      "input_features torch.Size([1, 128, 3000])\n",
      "convolution torch.Size([1, 1280, 1500])\n",
      "encoder_states torch.Size([1, 1500, 1280])\n",
      "decoder hidden_states torch.Size([1, 4, 1280])\n",
      "decoder hidden_states torch.Size([1, 4, 1280])\n",
      "decoder hidden_states torch.Size([1, 4, 1280])\n",
      "decoder hidden_states torch.Size([1, 4, 1280])\n",
      "decoder_states torch.Size([1, 4, 1280])\n",
      "outputs len 3\n",
      "outputs[0] shape torch.Size([1, 4, 1280])\n",
      "lm_logits torch.Size([1, 4, 51866])\n",
      "decoder hidden_states torch.Size([1, 1, 1280])\n",
      "decoder hidden_states torch.Size([1, 1, 1280])\n",
      "decoder hidden_states torch.Size([1, 1, 1280])\n",
      "decoder hidden_states torch.Size([1, 1, 1280])\n",
      "decoder_states torch.Size([1, 1, 1280])\n",
      "outputs len 3\n",
      "outputs[0] shape torch.Size([1, 1, 1280])\n",
      "lm_logits torch.Size([1, 1, 51866])\n",
      "decoder hidden_states torch.Size([1, 1, 1280])\n",
      "decoder hidden_states torch.Size([1, 1, 1280])\n",
      "decoder hidden_states torch.Size([1, 1, 1280])\n",
      "decoder hidden_states torch.Size([1, 1, 1280])\n",
      "decoder_states torch.Size([1, 1, 1280])\n",
      "outputs len 3\n",
      "outputs[0] shape torch.Size([1, 1, 1280])\n",
      "lm_logits torch.Size([1, 1, 51866])\n",
      "decoder hidden_states torch.Size([1, 1, 1280])\n",
      "decoder hidden_states torch.Size([1, 1, 1280])\n",
      "decoder hidden_states torch.Size([1, 1, 1280])\n",
      "decoder hidden_states torch.Size([1, 1, 1280])\n",
      "decoder_states torch.Size([1, 1, 1280])\n",
      "outputs len 3\n",
      "outputs[0] shape torch.Size([1, 1, 1280])\n",
      "lm_logits torch.Size([1, 1, 51866])\n",
      "decoder hidden_states torch.Size([1, 1, 1280])\n",
      "decoder hidden_states torch.Size([1, 1, 1280])\n",
      "decoder hidden_states torch.Size([1, 1, 1280])\n",
      "decoder hidden_states torch.Size([1, 1, 1280])\n",
      "decoder_states torch.Size([1, 1, 1280])\n",
      "outputs len 3\n",
      "outputs[0] shape torch.Size([1, 1, 1280])\n",
      "lm_logits torch.Size([1, 1, 51866])\n",
      "decoder hidden_states torch.Size([1, 1, 1280])\n",
      "decoder hidden_states torch.Size([1, 1, 1280])\n",
      "decoder hidden_states torch.Size([1, 1, 1280])\n",
      "decoder hidden_states torch.Size([1, 1, 1280])\n",
      "decoder_states torch.Size([1, 1, 1280])\n",
      "outputs len 3\n",
      "outputs[0] shape torch.Size([1, 1, 1280])\n",
      "lm_logits torch.Size([1, 1, 51866])\n",
      "decoder hidden_states torch.Size([1, 1, 1280])\n",
      "decoder hidden_states torch.Size([1, 1, 1280])\n",
      "decoder hidden_states torch.Size([1, 1, 1280])\n",
      "decoder hidden_states torch.Size([1, 1, 1280])\n",
      "decoder_states torch.Size([1, 1, 1280])\n",
      "outputs len 3\n",
      "outputs[0] shape torch.Size([1, 1, 1280])\n",
      "lm_logits torch.Size([1, 1, 51866])\n",
      "decoder hidden_states torch.Size([1, 1, 1280])\n",
      "decoder hidden_states torch.Size([1, 1, 1280])\n",
      "decoder hidden_states torch.Size([1, 1, 1280])\n",
      "decoder hidden_states torch.Size([1, 1, 1280])\n",
      "decoder_states torch.Size([1, 1, 1280])\n",
      "outputs len 3\n",
      "outputs[0] shape torch.Size([1, 1, 1280])\n",
      "lm_logits torch.Size([1, 1, 51866])\n",
      "decoder hidden_states torch.Size([1, 1, 1280])\n",
      "decoder hidden_states torch.Size([1, 1, 1280])\n",
      "decoder hidden_states torch.Size([1, 1, 1280])\n",
      "decoder hidden_states torch.Size([1, 1, 1280])\n",
      "decoder_states torch.Size([1, 1, 1280])\n",
      "outputs len 3\n",
      "outputs[0] shape torch.Size([1, 1, 1280])\n",
      "lm_logits torch.Size([1, 1, 51866])\n",
      "decoder hidden_states torch.Size([1, 1, 1280])\n",
      "decoder hidden_states torch.Size([1, 1, 1280])\n",
      "decoder hidden_states torch.Size([1, 1, 1280])\n",
      "decoder hidden_states torch.Size([1, 1, 1280])\n",
      "decoder_states torch.Size([1, 1, 1280])\n",
      "outputs len 3\n",
      "outputs[0] shape torch.Size([1, 1, 1280])\n",
      "lm_logits torch.Size([1, 1, 51866])\n",
      "decoder hidden_states torch.Size([1, 1, 1280])\n",
      "decoder hidden_states torch.Size([1, 1, 1280])\n",
      "decoder hidden_states torch.Size([1, 1, 1280])\n",
      "decoder hidden_states torch.Size([1, 1, 1280])\n",
      "decoder_states torch.Size([1, 1, 1280])\n",
      "outputs len 3\n",
      "outputs[0] shape torch.Size([1, 1, 1280])\n",
      "lm_logits torch.Size([1, 1, 51866])\n",
      "decoder hidden_states torch.Size([1, 1, 1280])\n",
      "decoder hidden_states torch.Size([1, 1, 1280])\n",
      "decoder hidden_states torch.Size([1, 1, 1280])\n",
      "decoder hidden_states torch.Size([1, 1, 1280])\n",
      "decoder_states torch.Size([1, 1, 1280])\n",
      "outputs len 3\n",
      "outputs[0] shape torch.Size([1, 1, 1280])\n",
      "lm_logits torch.Size([1, 1, 51866])\n"
     ]
    }
   ],
   "source": [
    "# load audio file and trascribe\n",
    "audio_file = 'test.wav'\n",
    "audio = sf.read(audio_file)[0]\n",
    "\n",
    "print(audio.shape)\n",
    "input_features = feature_extractor(audio, return_tensors='pt')\n",
    "\n",
    "res = model.generate(input_features=input_features['input_features'], max_length=100)"
   ]
  },
  {
   "cell_type": "code",
   "execution_count": 3,
   "metadata": {},
   "outputs": [
    {
     "name": "stderr",
     "output_type": "stream",
     "text": [
      "It is strongly recommended to pass the `sampling_rate` argument to this function. Failing to do so can result in silent errors that might be hard to debug.\n"
     ]
    },
    {
     "name": "stdout",
     "output_type": "stream",
     "text": [
      "(119845,)\n"
     ]
    },
    {
     "name": "stderr",
     "output_type": "stream",
     "text": [
      "2024-10-16 17:34:03.682003: I tensorflow/core/platform/cpu_feature_guard.cc:182] This TensorFlow binary is optimized to use available CPU instructions in performance-critical operations.\n",
      "To enable the following instructions: AVX2 AVX512F FMA, in other operations, rebuild TensorFlow with the appropriate compiler flags.\n",
      "2024-10-16 17:34:05.232295: W tensorflow/compiler/tf2tensorrt/utils/py_utils.cc:38] TF-TRT Warning: Could not find TensorRT\n",
      "Due to a bug fix in https://github.com/huggingface/transformers/pull/28687 transcription using a multilingual Whisper will default to language detection followed by transcription instead of translation to English.This might be a breaking change for your use case. If you want to instead always translate your audio to English, make sure to pass `language='en'`.\n",
      "The attention mask is not set and cannot be inferred from input because pad token is same as eos token.As a consequence, you may observe unexpected behavior. Please pass your input's `attention_mask` to obtain reliable results.\n"
     ]
    },
    {
     "name": "stdout",
     "output_type": "stream",
     "text": [
      "-------------\n",
      "input_features torch.Size([1, 128, 3000])\n",
      "outputs torch.Size([1, 1, 1280])\n",
      "lm_logits torch.Size([1, 1, 51866])\n",
      "-------------\n",
      "-------------\n",
      "outputs torch.Size([1, 4, 1280])\n",
      "encoder_outputs torch.Size([1, 1500, 1280])\n",
      "lm_logits torch.Size([1, 4, 51866])\n",
      "-------------\n",
      "-------------\n",
      "outputs torch.Size([1, 1, 1280])\n",
      "encoder_outputs torch.Size([1, 1500, 1280])\n",
      "lm_logits torch.Size([1, 1, 51866])\n",
      "-------------\n",
      "-------------\n",
      "outputs torch.Size([1, 1, 1280])\n",
      "encoder_outputs torch.Size([1, 1500, 1280])\n",
      "lm_logits torch.Size([1, 1, 51866])\n",
      "-------------\n",
      "-------------\n",
      "outputs torch.Size([1, 1, 1280])\n",
      "encoder_outputs torch.Size([1, 1500, 1280])\n",
      "lm_logits torch.Size([1, 1, 51866])\n",
      "-------------\n",
      "-------------\n",
      "outputs torch.Size([1, 1, 1280])\n",
      "encoder_outputs torch.Size([1, 1500, 1280])\n",
      "lm_logits torch.Size([1, 1, 51866])\n",
      "-------------\n",
      "-------------\n",
      "outputs torch.Size([1, 1, 1280])\n",
      "encoder_outputs torch.Size([1, 1500, 1280])\n",
      "lm_logits torch.Size([1, 1, 51866])\n",
      "-------------\n",
      "-------------\n",
      "outputs torch.Size([1, 1, 1280])\n",
      "encoder_outputs torch.Size([1, 1500, 1280])\n",
      "lm_logits torch.Size([1, 1, 51866])\n",
      "-------------\n",
      "-------------\n",
      "outputs torch.Size([1, 1, 1280])\n",
      "encoder_outputs torch.Size([1, 1500, 1280])\n",
      "lm_logits torch.Size([1, 1, 51866])\n",
      "-------------\n",
      "-------------\n",
      "outputs torch.Size([1, 1, 1280])\n",
      "encoder_outputs torch.Size([1, 1500, 1280])\n",
      "lm_logits torch.Size([1, 1, 51866])\n",
      "-------------\n",
      "-------------\n",
      "outputs torch.Size([1, 1, 1280])\n",
      "encoder_outputs torch.Size([1, 1500, 1280])\n",
      "lm_logits torch.Size([1, 1, 51866])\n",
      "-------------\n",
      "-------------\n",
      "outputs torch.Size([1, 1, 1280])\n",
      "encoder_outputs torch.Size([1, 1500, 1280])\n",
      "lm_logits torch.Size([1, 1, 51866])\n",
      "-------------\n",
      "-------------\n",
      "outputs torch.Size([1, 1, 1280])\n",
      "encoder_outputs torch.Size([1, 1500, 1280])\n",
      "lm_logits torch.Size([1, 1, 51866])\n",
      "-------------\n"
     ]
    }
   ],
   "source": [
    "# load audio file and trascribe\n",
    "audio_file = 'test.wav'\n",
    "audio = sf.read(audio_file)[0]\n",
    "\n",
    "print(audio.shape)\n",
    "input_features = feature_extractor(audio, return_tensors='pt')\n",
    "\n",
    "res = model.generate(input_features=input_features['input_features'], max_length=100)"
   ]
  },
  {
   "cell_type": "code",
   "execution_count": 4,
   "metadata": {},
   "outputs": [
    {
     "data": {
      "text/plain": [
       "(torch.Size([1, 16]),\n",
       " tensor([[50258, 50264, 50360, 50364, 19252, 10201, 41390, 15876, 41755,    30,\n",
       "          10201, 41390, 15876, 41755,    30, 50257]]))"
      ]
     },
     "execution_count": 4,
     "metadata": {},
     "output_type": "execute_result"
    }
   ],
   "source": [
    "res.shape, res"
   ]
  },
  {
   "cell_type": "code",
   "execution_count": 5,
   "metadata": {},
   "outputs": [
    {
     "data": {
      "text/plain": [
       "{'input_features': tensor([[[ 0.7856,  0.7242,  0.7203,  ..., -0.6306, -0.6306, -0.6306],\n",
       "         [ 0.8832,  0.8217,  0.8179,  ..., -0.6306, -0.6306, -0.6306],\n",
       "         [ 0.5971,  0.8165,  0.8126,  ..., -0.6306, -0.6306, -0.6306],\n",
       "         ...,\n",
       "         [-0.1515, -0.0708,  0.0719,  ..., -0.6306, -0.6306, -0.6306],\n",
       "         [-0.0576,  0.0143,  0.0305,  ..., -0.6306, -0.6306, -0.6306],\n",
       "         [ 0.0556,  0.0271,  0.0355,  ..., -0.6306, -0.6306, -0.6306]]])}"
      ]
     },
     "execution_count": 5,
     "metadata": {},
     "output_type": "execute_result"
    }
   ],
   "source": [
    "input_features"
   ]
  },
  {
   "cell_type": "code",
   "execution_count": null,
   "metadata": {},
   "outputs": [],
   "source": []
  }
 ],
 "metadata": {
  "kernelspec": {
   "display_name": "valle",
   "language": "python",
   "name": "python3"
  },
  "language_info": {
   "codemirror_mode": {
    "name": "ipython",
    "version": 3
   },
   "file_extension": ".py",
   "mimetype": "text/x-python",
   "name": "python",
   "nbconvert_exporter": "python",
   "pygments_lexer": "ipython3",
   "version": "3.8.19"
  }
 },
 "nbformat": 4,
 "nbformat_minor": 2
}
